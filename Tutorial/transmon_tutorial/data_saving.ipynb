{
 "cells": [
  {
   "cell_type": "markdown",
   "metadata": {},
   "source": [
    "# Data saving and storage\n",
    "> @author: Jiheng Duan\n",
    "## About\n",
    "A internal class that helps to save, store, load, and undo data.\n",
    "## Required import\n",
    "Setup a relative path to `/Data/` directory and you can create a new folder for this notebook only like `/Data/QSave_tuto/`.\n",
    "\n",
    "Be careful when doing this, make sure your `/Data` folder is at correct direction. Commonly, we suggest to create Data under the same path of `/qusim` and `/Tutorial`, which need `../` to go back forward. For example, in this notebook, we can use `path='../../Data/QSave_tuto/'`.\n",
    "\n",
    "To initialize the saver, we use `QSave(path)`. We usally call it `qsv`, and assign to it like `qsv = QSave(path)`. \n",
    "\n",
    "Then, we need to initialize the `counts.pkl` for counting specific number of your current saved data and add it at the end of the filename of that data file. To do this, use `qsv.init`. "
   ]
  },
  {
   "cell_type": "code",
   "execution_count": 1,
   "metadata": {},
   "outputs": [
    {
     "name": "stdout",
     "output_type": "stream",
     "text": [
      "Directory ../../Data/QSave_tuto/ exists.\n",
      "Current counts.pickle exist.\n"
     ]
    }
   ],
   "source": [
    "# import sys\n",
    "# sys.path.append('../..')\n",
    "from qusim.Utils.qsave import *\n",
    "path = '../../Data/QSave_tuto/'\n",
    "qsv = QSave(path)"
   ]
  },
  {
   "cell_type": "markdown",
   "metadata": {},
   "source": [
    "## Save data\n",
    "\n",
    "To save a data, use `qsv.save(filename, data=mydata)`. Here, the filename can be the one without extension as the QSave will automatically add a `.pkl` to the data file."
   ]
  },
  {
   "cell_type": "code",
   "execution_count": 4,
   "metadata": {},
   "outputs": [
    {
     "name": "stdout",
     "output_type": "stream",
     "text": [
      "Save as file QSave_save_tutor_1.pkl\n"
     ]
    }
   ],
   "source": [
    "mydata = [123, '456', {'abv': 23444.234}]\n",
    "qsv.save('QSave_save_tutor', data=mydata)"
   ]
  },
  {
   "cell_type": "markdown",
   "metadata": {},
   "source": [
    "## Load data\n",
    "\n",
    "To load a data, use  `qsv.load`. It will open a file explore windows, based on your operation system, at the `path` directory. You can select and load multiple file as you want."
   ]
  },
  {
   "cell_type": "code",
   "execution_count": 8,
   "metadata": {},
   "outputs": [
    {
     "name": "stdout",
     "output_type": "stream",
     "text": [
      "Selected files: ['QSave_save_tutor_0.pkl', 'QSave_save_tutor_1.pkl']\n"
     ]
    }
   ],
   "source": [
    "load_data = qsv.load"
   ]
  },
  {
   "cell_type": "markdown",
   "metadata": {},
   "source": [
    "Them, all the selected data are in a list. from the selected file return, we know the corresponding index of each loaded data file."
   ]
  },
  {
   "cell_type": "code",
   "execution_count": 10,
   "metadata": {},
   "outputs": [
    {
     "data": {
      "text/plain": [
       "[123, '456', {'abv': 23444.234}]"
      ]
     },
     "execution_count": 10,
     "metadata": {},
     "output_type": "execute_result"
    }
   ],
   "source": [
    "mydata = load_data[0]\n",
    "mydata"
   ]
  },
  {
   "cell_type": "markdown",
   "metadata": {},
   "source": [
    "## Undo data\n",
    "\n",
    "This will undo the previous saved: means delecte the last data you saved and set the counts.pkl file number to current number - 1. qsv.undo requires a user response (input) to confirm undoing the data."
   ]
  },
  {
   "cell_type": "code",
   "execution_count": 5,
   "metadata": {},
   "outputs": [
    {
     "name": "stdout",
     "output_type": "stream",
     "text": [
      "Successfully undo QSave_save_tutor_8.pkl\n",
      "9\n",
      "8\n",
      "8\n"
     ]
    }
   ],
   "source": [
    "qsv.undo"
   ]
  }
 ],
 "metadata": {
  "kernelspec": {
   "display_name": "qusim",
   "language": "python",
   "name": "python3"
  },
  "language_info": {
   "codemirror_mode": {
    "name": "ipython",
    "version": 3
   },
   "file_extension": ".py",
   "mimetype": "text/x-python",
   "name": "python",
   "nbconvert_exporter": "python",
   "pygments_lexer": "ipython3",
   "version": "3.10.13"
  }
 },
 "nbformat": 4,
 "nbformat_minor": 2
}
