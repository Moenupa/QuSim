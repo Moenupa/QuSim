{
 "cells": [
  {
   "cell_type": "code",
   "execution_count": 9,
   "metadata": {},
   "outputs": [
    {
     "name": "stdout",
     "output_type": "stream",
     "text": [
      "The autoreload extension is already loaded. To reload it, use:\n",
      "  %reload_ext autoreload\n"
     ]
    }
   ],
   "source": [
    "import sys\n",
    "# This on is a path correcting code, which is used to find the path of qusim.\n",
    "sys.path.append('../../../..')\n",
    "import qusim.DataPlot.plot_lib as pl\n",
    "import qusim.Instruments.tools as tools\n",
    "import qusim.Instruments.stochastic_gen as sg\n",
    "import qusim.System.arb_qubit_system as aqs\n",
    "import qusim.Instruments.angle as  ang\n",
    "\n",
    "import numpy as np\n",
    "import matplotlib.pyplot as plt\n",
    "\n",
    "from tqdm import *\n",
    "from time import *\n",
    "from sympy import*\n",
    "import copy\n",
    "\n",
    "from qutip import*\n",
    "\n",
    "# Some useful tools\n",
    "# Some intrinsic plotting function\n",
    "\n",
    "\n",
    "def var_name2str(variable):\n",
    "    def nested_var_name2str(value):\n",
    "        if isinstance(value, list):\n",
    "            return [nested_var_name2str(item) for item in value]\n",
    "        else:\n",
    "            for name in globals():\n",
    "                if eval(name) == value:\n",
    "                    return name\n",
    "            return str(value)\n",
    "    return nested_var_name2str(variable)\n",
    "\n",
    "# Print the full output\n",
    "np.set_printoptions(threshold=sys.maxsize)\n",
    "\n",
    "# auto reload\n",
    "%load_ext autoreload\n",
    "%autoreload 2 \n",
    "\n",
    "def get_angle(tstate, spt):\n",
    "    if isket(spt):\n",
    "        if isket(tstate):\n",
    "            angle = np.angle(tstate.dag() * spt)[0][0]\n",
    "    else:\n",
    "        if isket(tstate):\n",
    "            length = spt.dims[0][0]\n",
    "            # print(length)\n",
    "            # print(tstate.dims)\n",
    "            # print(Qobj(np.insert(np.angle(spt.full()[0][1:length]), 0 ,0)).dims)\n",
    "            angle_qobj = Qobj(np.insert(np.angle(spt.full()[0][1:length]), 0 ,0)).dag() * tstate\n",
    "            angle = angle_qobj.full()[0][0]\n",
    "        else: angle = None\n",
    "    if angle <0:\n",
    "        angle += 2*np.pi\n",
    "    return angle\n",
    "\n",
    "def phase_tracking(res, state):\n",
    "    angle_list = []\n",
    "    for spt in res.states:\n",
    "        angle_list.append(get_angle(state, spt))\n",
    "    return angle_list"
   ]
  },
  {
   "cell_type": "markdown",
   "metadata": {},
   "source": [
    "## Two Data qubit\n",
    "Referring to https://journals.aps.org/prb/pdf/10.1103/PhysRevB.90.045418\n",
    "\n",
    "The effective Hamiltonian for two qubit is given by\n",
    "$$\n",
    "H_{eff} = (\\mu \\Delta_{12} + \\bar{B}) \\sigma_z^1 + (\\mu \\Delta_{34} + \\bar{B}) \\sigma_z^2 + J_{23}/4 (\\sigma_z^1 \\sigma_z^2 - II)\n",
    "$$\n",
    "\n",
    "Here, we reduce this to \n",
    "\n",
    "$$\n",
    "H_{eff} = \\omega_1 \\sigma_z^1 + \\omega_2 \\sigma_z^2 + \\chi \\sigma_z^1 \\sigma_z^2\n",
    "$$\n"
   ]
  },
  {
   "cell_type": "code",
   "execution_count": 111,
   "metadata": {},
   "outputs": [
    {
     "data": {
      "text/latex": [
       "Quantum object: dims = [[2, 2], [2, 2]], shape = (4, 4), type = oper, isherm = True $ \\\\ \\left(\\begin{matrix}0.006 & 0.0 & 0.0 & 0.0\\\\0.0 & 36.436 & 0.0 & 0.0\\\\0.0 & 0.0 & 39.578 & 0.0\\\\0.0 & 0.0 & 0.0 & 76.033\\\\\\end{matrix}\\right)$"
      ],
      "text/plain": [
       "Quantum object: dims = [[2, 2], [2, 2]], shape = (4, 4), type = oper, isherm = True\n",
       "Qobj data =\n",
       "[[6.28318531e-03 0.00000000e+00 0.00000000e+00 0.00000000e+00]\n",
       " [0.00000000e+00 3.64361916e+01 0.00000000e+00 0.00000000e+00]\n",
       " [0.00000000e+00 0.00000000e+00 3.95777842e+01 0.00000000e+00]\n",
       " [0.00000000e+00 0.00000000e+00 0.00000000e+00 7.60328254e+01]]"
      ]
     },
     "execution_count": 111,
     "metadata": {},
     "output_type": "execute_result"
    }
   ],
   "source": [
    "freq_list = [\n",
    "    [0, 6.3],\n",
    "    [0, 5.8]\n",
    "]\n",
    "\n",
    "inter_list = [\n",
    "    {\n",
    "        \"v01\": 0,\n",
    "        \"v00\": 1,\n",
    "        \"v11\": -1\n",
    "    },\n",
    "    {\n",
    "        \"v01\": 0,\n",
    "        \"v00\": 1,\n",
    "        \"v11\": -1\n",
    "    }\n",
    "]\n",
    "\n",
    "r_dic = {\n",
    "    \"r12\": 1e-3\n",
    "}\n",
    "r = tools.r2matrix(r_dic, freq_list) # Coupling strength\n",
    "\n",
    "extra_list = [\n",
    "    {\n",
    "        \"v01\": 0\n",
    "    },\n",
    "    {\n",
    "        \"v01\": 0\n",
    "    }\n",
    "]\n",
    "\n",
    "## with pulse type XY\n",
    "driving_list = [\n",
    "    {\n",
    "        \"W01\": 1j   # W01 represents \\Omega_{01}, for the qubit with index 0\n",
    "    },\n",
    "    {\n",
    "        \"W01\": 1j\n",
    "    }\n",
    "]\n",
    "\n",
    "## with pulse type Z\n",
    "bias_list = [ # Default, Z00 = 0\n",
    "    {\n",
    "        \"Z11\": 1\n",
    "    },\n",
    "    {\n",
    "        \"Z11\": 1\n",
    "    }\n",
    "]\n",
    "\n",
    "gamma_list = [\n",
    "    {\n",
    "        'up': 0,\n",
    "        'down': 0,\n",
    "        'z': 4e-3\n",
    "    },\n",
    "    {\n",
    "        'up': 0,\n",
    "        'down': 0,\n",
    "        'z': 5e-3\n",
    "    }\n",
    "]\n",
    "\n",
    "gamma_list = None\n",
    "\n",
    "_system_arb1 = aqs.arb_qubit_system(freq_list, inter_list, r, extra_list, gamma_list, driving_list, bias_list)\n",
    "\n",
    "state_00, E_00, index_00 = _system_arb1.get_eigenstates_energy((0,0))\n",
    "state_01, E_01, index_01 = _system_arb1.get_eigenstates_energy((0,1))\n",
    "state_10, E_10, index_10 = _system_arb1.get_eigenstates_energy((1,0))\n",
    "state_11, E_11, index_11 = _system_arb1.get_eigenstates_energy((1,1))\n",
    "\n",
    "_system_arb1.H"
   ]
  },
  {
   "cell_type": "markdown",
   "metadata": {},
   "source": [
    "## Energy level\n",
    "### Scan $\\omega_2$"
   ]
  },
  {
   "cell_type": "code",
   "execution_count": 27,
   "metadata": {},
   "outputs": [],
   "source": [
    "num_level = 4 # Num of level we want to see\n",
    "w2_scan_space= np.linspace(5.5, 8, 800)\n",
    "w =copy.deepcopy(freq_list)\n",
    "\n",
    "energy_level_list = []\n",
    "for w2 in w2_scan_space:\n",
    "    dummy_list = []\n",
    "    w[1][1] = w2\n",
    "    _system_arb1 = aqs.arb_qubit_system(w, inter_list, r, extra_list, gamma_list, driving_list, bias_list)\n",
    "    for j in range(0,num_level):\n",
    "        dummy_list.append((_system_arb1.H.eigenenergies()[j] / np.pi/2).real)\n",
    "    energy_level_list.append(dummy_list)"
   ]
  },
  {
   "cell_type": "code",
   "execution_count": 28,
   "metadata": {},
   "outputs": [
    {
     "data": {
      "image/png": "[encoded data removed]",
      "text/plain": [
       "<Figure size 640x480 with 1 Axes>"
      ]
     },
     "metadata": {},
     "output_type": "display_data"
    },
    {
     "data": {
      "text/plain": [
       "0"
      ]
     },
     "execution_count": 28,
     "metadata": {},
     "output_type": "execute_result"
    }
   ],
   "source": [
    "# %matplotlib qt\n",
    "pl.plot_Elevel_dynamics(w2_scan_space, energy_level_list, 4, \"\\omega_2\")"
   ]
  },
  {
   "cell_type": "markdown",
   "metadata": {},
   "source": [
    "### Scan $\\chi$"
   ]
  },
  {
   "cell_type": "code",
   "execution_count": 29,
   "metadata": {},
   "outputs": [],
   "source": [
    "num_level = 4 # Num of level we want to see\n",
    "chi_scan_space= np.linspace(0.1e-3, 200e-3, 800)\n",
    "w =copy.deepcopy(freq_list)\n",
    "\n",
    "energy_level_list = []\n",
    "for chi in chi_scan_space:\n",
    "    dummy_list = []\n",
    "    rr_dic = {\"r12\": chi}\n",
    "    rr = tools.r2matrix(rr_dic, freq_list) # Coupling strength\n",
    "\n",
    "    _system_arb1 = aqs.arb_qubit_system(w, inter_list, rr, extra_list, gamma_list, driving_list, bias_list)\n",
    "    for j in range(0,num_level):\n",
    "        dummy_list.append((_system_arb1.H.eigenenergies()[j] / np.pi/2).real)\n",
    "    energy_level_list.append(dummy_list)"
   ]
  },
  {
   "cell_type": "code",
   "execution_count": 30,
   "metadata": {},
   "outputs": [
    {
     "data": {
      "image/png": "[encoded data removed]",
      "text/plain": [
       "<Figure size 640x480 with 1 Axes>"
      ]
     },
     "metadata": {},
     "output_type": "display_data"
    },
    {
     "data": {
      "text/plain": [
       "0"
      ]
     },
     "execution_count": 30,
     "metadata": {},
     "output_type": "execute_result"
    }
   ],
   "source": [
    "# %matplotlib qt\n",
    "pl.plot_Elevel_dynamics(chi_scan_space, energy_level_list, 4, \"\\chi\")"
   ]
  },
  {
   "cell_type": "markdown",
   "metadata": {},
   "source": [
    "## System dynamics"
   ]
  },
  {
   "cell_type": "code",
   "execution_count": 115,
   "metadata": {},
   "outputs": [
    {
     "data": {
      "image/png": "[encoded data removed]",
      "text/plain": [
       "<Figure size 640x480 with 2 Axes>"
      ]
     },
     "metadata": {},
     "output_type": "display_data"
    },
    {
     "data": {
      "text/plain": [
       "0"
      ]
     },
     "execution_count": 115,
     "metadata": {},
     "output_type": "execute_result"
    }
   ],
   "source": [
    "t_width = 0; bisa_amp = 20e-3\n",
    "simulation_option = {\n",
    "    \"simulation_time\": 1/(bisa_amp + r_dic[\"r12\"]), # ns\n",
    "    \"simulation_step\": 300,\n",
    "    \"initial_state\": [state_00, state_01, state_10, state_11] # Do multiple simulation\n",
    "}\n",
    "\n",
    "pulse_sequence = [\n",
    "    {\n",
    "        'pulse_index': 1, # [m,n] represents $\\Omega_{mn}$\n",
    "        'type': \"INT\",\n",
    "        'pulse_shape': \"cosine\",\n",
    "        't_delay': 0, # unit in ns\n",
    "        't_width': t_width, # unit in ns\n",
    "        't_plateau':simulation_option['simulation_time'] - t_width , # unit in ns\n",
    "        'freq': 0, # unit in GHz; Z pulse does not use it\n",
    "        'phase': 0, # unit in rad; Z pulse does not use it\n",
    "        'amplitude': bisa_amp, # XY: Rabi freq; Z: biased frequency\n",
    "        'q_index': (0,1)\n",
    "    }\n",
    "]\n",
    "\n",
    "%matplotlib inline\n",
    "## Notice that the all pulses'  amplitude are rescaled by a factor 1/1.2\n",
    "pl.plot_pulse_sequence(pulse_sequence, simulation_option)"
   ]
  },
  {
   "cell_type": "code",
   "execution_count": 116,
   "metadata": {},
   "outputs": [
    {
     "data": {
      "text/plain": [
       "[array([[0.0157849]]),\n",
       " array([[5.07064004]]),\n",
       " array([[6.26744787]]),\n",
       " array([[5.10234247]])]"
      ]
     },
     "execution_count": 116,
     "metadata": {},
     "output_type": "execute_result"
    }
   ],
   "source": [
    "result_list, angle_list = _system_arb1.system_dynamics_mesolve(simulation_option, pulse_sequence)\n",
    "angle_list"
   ]
  },
  {
   "cell_type": "code",
   "execution_count": 97,
   "metadata": {},
   "outputs": [
    {
     "data": {
      "text/latex": [
       "Quantum object: dims = [[2, 2], [1, 1]], shape = (4, 1), type = ket $ \\\\ \\left(\\begin{matrix}0.0\\\\0.0\\\\(-0.914+0.405j)\\\\0.0\\\\\\end{matrix}\\right)$"
      ],
      "text/plain": [
       "Quantum object: dims = [[2, 2], [1, 1]], shape = (4, 1), type = ket\n",
       "Qobj data =\n",
       "[[ 0.        +0.j        ]\n",
       " [ 0.        +0.j        ]\n",
       " [-0.91432152+0.40498909j]\n",
       " [ 0.        +0.j        ]]"
      ]
     },
     "execution_count": 97,
     "metadata": {},
     "output_type": "execute_result"
    }
   ],
   "source": [
    "result_list[2].states[-1]"
   ]
  },
  {
   "cell_type": "code",
   "execution_count": 117,
   "metadata": {},
   "outputs": [
    {
     "name": "stdout",
     "output_type": "stream",
     "text": [
      "25.0%. Run time:   1.03s. Est. time left: 00:00:00:03\n",
      "50.0%. Run time:   1.06s. Est. time left: 00:00:00:01\n",
      "75.0%. Run time:   1.07s. Est. time left: 00:00:00:00\n",
      "100.0%. Run time:   1.10s. Est. time left: 00:00:00:00\n",
      "Total run time:   1.14s\n"
     ]
    }
   ],
   "source": [
    "prop_list = _system_arb1.system_dynamics_propagator(simulation_option, pulse_sequence)"
   ]
  },
  {
   "cell_type": "code",
   "execution_count": 118,
   "metadata": {},
   "outputs": [
    {
     "data": {
      "text/latex": [
       "Quantum object: dims = [[2, 2], [2, 2]], shape = (4, 4), type = oper, isherm = False $ \\\\ \\left(\\begin{matrix}(1.000+0.016j) & 0.0 & 0.0 & 0.0\\\\0.0 & (0.351-0.937j) & 0.0 & 0.0\\\\0.0 & 0.0 & (1.000-0.016j) & 0.0\\\\0.0 & 0.0 & 0.0 & (0.380-0.925j)\\\\\\end{matrix}\\right)$"
      ],
      "text/plain": [
       "Quantum object: dims = [[2, 2], [2, 2]], shape = (4, 4), type = oper, isherm = False\n",
       "Qobj data =\n",
       "[[0.99987542+0.01578424j 0.        +0.j         0.        +0.j\n",
       "  0.        +0.j        ]\n",
       " [0.        +0.j         0.35063686-0.9365115j  0.        +0.j\n",
       "  0.        +0.j        ]\n",
       " [0.        +0.j         0.        +0.j         0.99987617-0.01573679j\n",
       "  0.        +0.j        ]\n",
       " [0.        +0.j         0.        +0.j         0.        +0.j\n",
       "  0.3801454 -0.92492674j]]"
      ]
     },
     "execution_count": 118,
     "metadata": {},
     "output_type": "execute_result"
    }
   ],
   "source": [
    "prop_list[-1]"
   ]
  },
  {
   "cell_type": "code",
   "execution_count": null,
   "metadata": {},
   "outputs": [],
   "source": [
    "{\"rt\": 128,\"tau_list\": [500, 600, 30],\"ep_list\": [10,10, 1],\"dBz\": 3.85e-3,\"trail\": 8}"
   ]
  }
 ],
 "metadata": {
  "kernelspec": {
   "display_name": "Python 3",
   "language": "python",
   "name": "python3"
  },
  "language_info": {
   "codemirror_mode": {
    "name": "ipython",
    "version": 3
   },
   "file_extension": ".py",
   "mimetype": "text/x-python",
   "name": "python",
   "nbconvert_exporter": "python",
   "pygments_lexer": "ipython3",
   "version": "3.10.13"
  }
 },
 "nbformat": 4,
 "nbformat_minor": 2
}
