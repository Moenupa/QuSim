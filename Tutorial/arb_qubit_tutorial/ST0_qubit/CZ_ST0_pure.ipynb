{
 "cells": [
  {
   "cell_type": "markdown",
   "metadata": {},
   "source": [
    "# Cphase gate simulation in spin qubit\n",
    "Author: Jiheng Duan\n",
    "\n",
    "Email: jiheng.duan@rochester.edu"
   ]
  },
  {
   "cell_type": "code",
   "execution_count": 1,
   "metadata": {},
   "outputs": [],
   "source": [
    "import sys\n",
    "# This on is a path correcting code, which is used to find the path of QuSim.\n",
    "sys.path.append('../../..')\n",
    "import QuSim.DataPlot.plot_lib as pl\n",
    "import QuSim.Instruments.tools as tools\n",
    "import QuSim.Instruments.stochastic_gen as sg\n",
    "import QuSim.System.arb_qubit_system as aqs\n",
    "import QuSim.Instruments.angle as  ang\n",
    "from QuSim.Instruments.angle import get_angle\n",
    "\n",
    "import numpy as np\n",
    "import matplotlib.pyplot as plt\n",
    "\n",
    "from tqdm import *\n",
    "from time import *\n",
    "from sympy import*\n",
    "import copy\n",
    "import pickle\n",
    "from qutip import*\n",
    "\n",
    "def var_name2str(variable):\n",
    "    def nested_var_name2str(value):\n",
    "        if isinstance(value, list):\n",
    "            return [nested_var_name2str(item) for item in value]\n",
    "        else:\n",
    "            for name in globals():\n",
    "                if eval(name) == value:\n",
    "                    return name\n",
    "            return str(value)\n",
    "    return nested_var_name2str(variable)\n",
    "\n",
    "# Print the full output\n",
    "np.set_printoptions(threshold=sys.maxsize)\n",
    "\n",
    "# auto reload\n",
    "%load_ext autoreload\n",
    "%autoreload 2 "
   ]
  },
  {
   "cell_type": "markdown",
   "metadata": {},
   "source": [
    "## Logic qubit case\n",
    "### Define system\n",
    "\n",
    "We start from logic qubit.\n",
    "\n",
    "Referring to https://journals.aps.org/prb/pdf/10.1103/PhysRevB.90.045418\n",
    "\n",
    "The effective Hamiltonian for two qubit is given by\n",
    "$$\n",
    "H_{eff} = (\\mu \\Delta_{12} + \\bar{B}) \\sigma_z^1 + (\\mu \\Delta_{34} + \\bar{B}) \\sigma_z^2 + J_{23}/4 (\\sigma_z^1 \\sigma_z^2 - II)\n",
    "$$\n",
    "\n",
    "Here, we reduce this to \n",
    "\n",
    "$$\n",
    "H_{eff} = \\omega_1 \\sigma_z^1 + \\omega_2 \\sigma_z^2 + J_{12}\\sigma_x^1 + J_{34}\\sigma_x^2 +  \\chi \\sigma_z^1 \\sigma_z^2\n",
    "$$\n"
   ]
  },
  {
   "cell_type": "code",
   "execution_count": 2,
   "metadata": {},
   "outputs": [
    {
     "data": {
      "text/latex": [
       "Quantum object: dims = [[2, 2], [2, 2]], shape = (4, 4), type = oper, isherm = True $ \\\\ \\left(\\begin{matrix}0.001 & 0.019 & 0.013 & 0.0\\\\0.019 & 2.512 & 0.0 & 0.013\\\\0.013 & 0.0 & 1.884 & 0.019\\\\0.0 & 0.013 & 0.019 & 4.399\\\\\\end{matrix}\\right)$"
      ],
      "text/plain": [
       "Quantum object: dims = [[2, 2], [2, 2]], shape = (4, 4), type = oper, isherm = True\n",
       "Qobj data =\n",
       "[[1.25663706e-03 1.94778745e-02 1.25663706e-02 0.00000000e+00]\n",
       " [1.94778745e-02 2.51201749e+00 0.00000000e+00 1.25663706e-02]\n",
       " [1.25663706e-02 0.00000000e+00 1.88369896e+00 1.94778745e-02]\n",
       " [0.00000000e+00 1.25663706e-02 1.94778745e-02 4.39948635e+00]]"
      ]
     },
     "execution_count": 2,
     "metadata": {},
     "output_type": "execute_result"
    }
   ],
   "source": [
    "int_strength = 0.2e-3 # 0.2MHz\n",
    "freq_list = [\n",
    "    [0, 0.3],\n",
    "    [0, 0.4]\n",
    "]\n",
    "\n",
    "inter_list = [\n",
    "    {\n",
    "        \"v01\": 0,\n",
    "        \"v00\": 1,\n",
    "        \"v11\": -1\n",
    "    },\n",
    "    {\n",
    "        \"v01\": 0,\n",
    "        \"v00\": 1,\n",
    "        \"v11\": -1\n",
    "    }\n",
    "]\n",
    "\n",
    "r_dic = {\n",
    "    \"r12\": int_strength\n",
    "}\n",
    "r = tools.r2matrix(r_dic, freq_list) # Coupling strength\n",
    "\n",
    "extra_list = [\n",
    "    {\n",
    "        \"v01\": 2e-3\n",
    "    },\n",
    "    {\n",
    "        \"v01\": 3.1e-3\n",
    "    }\n",
    "]\n",
    "\n",
    "## with pulse type XY\n",
    "driving_list = [\n",
    "    {\n",
    "        \"W01\": 1j   # W01 represents \\Omega_{01}, for the qubit with index 0\n",
    "    },\n",
    "    {\n",
    "        \"W01\": 1j\n",
    "    }\n",
    "]\n",
    "\n",
    "## with pulse type Z\n",
    "bias_list = [ # Default, Z00 = 0\n",
    "    {\n",
    "        \"Z11\": 1\n",
    "    },\n",
    "    {\n",
    "        \"Z11\": 1\n",
    "    }\n",
    "]\n",
    "\n",
    "gamma_list = None\n",
    "\n",
    "# gamma_list = None\n",
    "\n",
    "_system_arb1 = aqs.arb_qubit_system(freq_list, inter_list, r, extra_list, gamma_list, driving_list, bias_list)\n",
    "\n",
    "state_00, E_00, index_00 = _system_arb1.get_eigenstates_energy((0,0))\n",
    "state_01, E_01, index_01 = _system_arb1.get_eigenstates_energy((0,1))\n",
    "state_10, E_10, index_10 = _system_arb1.get_eigenstates_energy((1,0))\n",
    "state_11, E_11, index_11 = _system_arb1.get_eigenstates_energy((1,1))\n",
    "\n",
    "_system_arb1.H"
   ]
  },
  {
   "cell_type": "code",
   "execution_count": 13,
   "metadata": {},
   "outputs": [
    {
     "data": {
      "text/plain": [
       "0"
      ]
     },
     "execution_count": 13,
     "metadata": {},
     "output_type": "execute_result"
    }
   ],
   "source": [
    "t_width = 10; bisa_amp = 20e-3\n",
    "\n",
    "simulation_option = {\n",
    "    \"simulation_time\": 111, # ns\n",
    "    \"simulation_step\": 10000,\n",
    "    \"initial_state\": [state_00, state_01, state_10, state_11] # Do multiple simulation\n",
    "}\n",
    "\n",
    "noise_chan1 = [\n",
    "    {\n",
    "    'type': 'white',\n",
    "    'switch': 'on',\n",
    "    'std': bisa_amp*0.3,\n",
    "    }\n",
    "]\n",
    "noise_chan2 = [\n",
    "    {\n",
    "    'type': '1/f',\n",
    "    'switch': 'on',\n",
    "    'scale': 0.3,\n",
    "    'alpha': 0.9,\n",
    "    }\n",
    "]\n",
    "noise_chan3 = [\n",
    "    {\n",
    "    'type': '1/f',\n",
    "    'switch': 'on',\n",
    "    'scale': 0.12,\n",
    "    'alpha': 0.92,\n",
    "    }\n",
    "]\n",
    "noise_chan4 = [\n",
    "    {\n",
    "    'type': 'gaussian',\n",
    "    'switch': 'on',\n",
    "    'mean': 0,\n",
    "    'std': 0.2\n",
    "    }\n",
    "]\n",
    "noise_chan5 = [\n",
    "    {\n",
    "    'type': 'gaussian',\n",
    "    'switch': 'on',\n",
    "    'mean':0,\n",
    "    'std': 0.1\n",
    "    }\n",
    "]\n",
    "\n",
    "pulse_sequence = [\n",
    "    {\n",
    "        'pulse_index': 0, # [m,n] represents $\\Omega_{mn}$\n",
    "        'type': \"INT\",\n",
    "        'pulse_shape': \"cosine\",\n",
    "        't_delay': 0, # unit in ns\n",
    "        't_width': t_width, # unit in ns\n",
    "        't_plateau':simulation_option['simulation_time'] - t_width , # unit in ns\n",
    "        'freq': 0, # unit in GHz; Z pulse does not use it\n",
    "        'phase': 0, # unit in rad; Z pulse does not use it\n",
    "        'amplitude': bisa_amp, # XY: Rabi freq; Z: biased frequency\n",
    "        'q_index': (0,1),\n",
    "        'noise': noise_chan1\n",
    "    },\n",
    "    {\n",
    "        'pulse_index': 1,\n",
    "        'type': \"Z\",\n",
    "        \"pulse_shape\": \"square\",\n",
    "        't_delay': 0, # unit in ns\n",
    "        't_width': 0, # unit in ns\n",
    "        't_plateau':simulation_option['simulation_time'], # unit in ns\n",
    "        'freq': 0, # unit in GHz; Z pulse does not use it\n",
    "        'phase': 0, # unit in rad; Z pulse does not use it\n",
    "        'amplitude': 0, # XY: Rabi freq; Z: biased frequency\n",
    "        'q_index': 0,\n",
    "        'noise': noise_chan2\n",
    "    },\n",
    "    {\n",
    "        'pulse_index': 2,\n",
    "        'type': \"Z\",\n",
    "        \"pulse_shape\": \"square\",\n",
    "        't_delay': 0, # unit in ns\n",
    "        't_width': 0, # unit in ns\n",
    "        't_plateau':simulation_option['simulation_time'], # unit in ns\n",
    "        'freq': 0, # unit in GHz; Z pulse does not use it\n",
    "        'phase': 0, # unit in rad; Z pulse does not use it\n",
    "        'amplitude': 0, # XY: Rabi freq; Z: biased frequency\n",
    "        'q_index': 1,\n",
    "        'noise': noise_chan3\n",
    "    },\n",
    "    {\n",
    "        'pulse_index': 3,\n",
    "        'type': \"XY\",\n",
    "        \"pulse_shape\": \"square\",\n",
    "        't_delay': 0, # unit in ns\n",
    "        't_width': 0, # unit in ns\n",
    "        't_plateau':simulation_option['simulation_time'], # unit in ns\n",
    "        'freq': 0, # unit in GHz; Z pulse does not use it\n",
    "        'phase': 0, # unit in rad; Z pulse does not use it\n",
    "        'amplitude': 0, # XY: Rabi freq; Z: biased frequency\n",
    "        'q_index': 0,\n",
    "        'noise': noise_chan4\n",
    "    },\n",
    "    {\n",
    "        'pulse_index': 4,\n",
    "        'type': \"XY\",\n",
    "        \"pulse_shape\": \"square\",\n",
    "        't_delay': 0, # unit in ns\n",
    "        't_width': 0, # unit in ns\n",
    "        't_plateau':simulation_option['simulation_time'], # unit in ns\n",
    "        'freq': 0, # unit in GHz; Z pulse does not use it\n",
    "        'phase': 0, # unit in rad; Z pulse does not use it\n",
    "        'amplitude': 0, # XY: Rabi freq; Z: biased frequency\n",
    "        'q_index': 1,\n",
    "        'noise': noise_chan5\n",
    "    }\n",
    "]\n",
    "\n",
    "%matplotlib qt\n",
    "## Notice that the all pulses'  amplitude are rescaled by a factor 1/1.2\n",
    "pl.plot_pulse_sequence(pulse_sequence, simulation_option)"
   ]
  },
  {
   "cell_type": "code",
   "execution_count": 14,
   "metadata": {},
   "outputs": [
    {
     "name": "stdout",
     "output_type": "stream",
     "text": [
      "25.0%. Run time:   2.56s. Est. time left: 00:00:00:07\n",
      "50.0%. Run time:   2.69s. Est. time left: 00:00:00:02\n",
      "75.0%. Run time:   2.83s. Est. time left: 00:00:00:00\n",
      "100.0%. Run time:   2.88s. Est. time left: 00:00:00:00\n",
      "Total run time:   2.93s\n"
     ]
    },
    {
     "data": {
      "text/plain": [
       "[array([[5.44985642]]),\n",
       " array([[4.64543443]]),\n",
       " array([[5.30954668]]),\n",
       " array([[0.97249432]])]"
      ]
     },
     "execution_count": 14,
     "metadata": {},
     "output_type": "execute_result"
    }
   ],
   "source": [
    "result_list, angle_list = _system_arb1.system_dynamics_mesolve(simulation_option, pulse_sequence)\n",
    "propa_list = _system_arb1.system_dynamics_propagator(simulation_option, pulse_sequence)\n",
    "angle_list"
   ]
  },
  {
   "cell_type": "code",
   "execution_count": 15,
   "metadata": {},
   "outputs": [
    {
     "data": {
      "text/latex": [
       "Quantum object: dims = [[2, 2], [2, 2]], shape = (4, 4), type = oper, isherm = False $ \\\\ \\left(\\begin{matrix}1.0 & (0.058-0.077j) & (0.208-0.080j) & (0.005+1.699\\times10^{-05}j)\\\\(-0.093-0.015j) & (0.707-0.737j) & (-0.015+0.019j) & (0.008+0.074j)\\\\(-0.214-0.059j) & (0.004+0.005j) & (0.992-0.102j) & (-0.120-0.031j)\\\\(0.015-0.026j) & (-0.069+0.030j) & (0.009+0.119j) & (-0.291+0.976j)\\\\\\end{matrix}\\right)$"
      ],
      "text/plain": [
       "Quantum object: dims = [[2, 2], [2, 2]], shape = (4, 4), type = oper, isherm = False\n",
       "Qobj data =\n",
       "[[ 1.        +0.00000000e+00j  0.0580983 -7.69386361e-02j\n",
       "   0.20786679-8.04002771e-02j  0.00457799+1.69915876e-05j]\n",
       " [-0.09318989-1.47834629e-02j  0.70745082-7.37202399e-01j\n",
       "  -0.01492055+1.94477854e-02j  0.00759542+7.39803660e-02j]\n",
       " [-0.21368842-5.90354968e-02j  0.00420821+5.15719305e-03j\n",
       "   0.99194472-1.01986219e-01j -0.12043201-3.06153004e-02j]\n",
       " [ 0.01541099-2.64522214e-02j -0.06919401+3.01153476e-02j\n",
       "   0.00889986+1.19497622e-01j -0.29148612+9.76233061e-01j]]"
      ]
     },
     "execution_count": 15,
     "metadata": {},
     "output_type": "execute_result"
    }
   ],
   "source": [
    "U = propa_list[-1]\n",
    "Usim = U/U.data[0,0]\n",
    "Usim"
   ]
  },
  {
   "cell_type": "code",
   "execution_count": 16,
   "metadata": {},
   "outputs": [
    {
     "data": {
      "text/plain": [
       "[array([[0.]]),\n",
       " array([[3.7699635]]),\n",
       " array([[4.39828178]]),\n",
       " array([[1.88501191]])]"
      ]
     },
     "execution_count": 16,
     "metadata": {},
     "output_type": "execute_result"
    }
   ],
   "source": [
    "# Construct a decoupled system\n",
    "r_dic = {\n",
    "    \"r12\": 0\n",
    "}\n",
    "r = tools.r2matrix(r_dic, freq_list) # Coupling strength\n",
    "extra_list=None\n",
    "_system_arb2 = aqs.arb_qubit_system(freq_list, inter_list, r, extra_list, gamma_list, driving_list, bias_list)\n",
    "\n",
    "state_00, E_00, index_00 = _system_arb2.get_eigenstates_energy((0,0))\n",
    "state_01, E_01, index_01 = _system_arb2.get_eigenstates_energy((0,1))\n",
    "state_10, E_10, index_10 = _system_arb2.get_eigenstates_energy((1,0))\n",
    "state_11, E_11, index_11 = _system_arb2.get_eigenstates_energy((1,1))\n",
    "simulation_option2 = copy.deepcopy(simulation_option)\n",
    "simulation_option2['initial_state'] = [state_00, state_01, state_10, state_11]\n",
    "# simulation_option2['simulation_time'] = 154\n",
    "pulse_sequence2 = [\n",
    "    {\n",
    "        'pulse_index': 1, # [m,n] represents $\\Omega_{mn}$\n",
    "        'type': \"INT\",\n",
    "        'pulse_shape': \"cosine\",\n",
    "        't_delay': 0, # unit in ns\n",
    "        't_width': t_width, # unit in ns\n",
    "        't_plateau':simulation_option2['simulation_time'] - t_width , # unit in ns\n",
    "        'freq': 0, # unit in GHz; Z pulse does not use it\n",
    "        'phase': 0, # unit in rad; Z pulse does not use it\n",
    "        'amplitude': 0, # XY: Rabi freq; Z: biased frequency\n",
    "        'q_index': (0,1)\n",
    "    }\n",
    "]\n",
    "\n",
    "result_list2, angle_list2 = _system_arb2.system_dynamics_mesolve(simulation_option2, pulse_sequence2)\n",
    "angle_list2"
   ]
  },
  {
   "cell_type": "code",
   "execution_count": 17,
   "metadata": {},
   "outputs": [
    {
     "data": {
      "text/latex": [
       "Quantum object: dims = [[2, 2], [2, 2]], shape = (4, 4), type = oper, isherm = False $ \\\\ \\left(\\begin{matrix}1.0 & 0.0 & 0.0 & 0.0\\\\0.0 & (-0.809+0.588j) & 0.0 & 0.0\\\\0.0 & 0.0 & (-0.309+0.951j) & 0.0\\\\0.0 & 0.0 & 0.0 & (-0.309-0.951j)\\\\\\end{matrix}\\right)$"
      ],
      "text/plain": [
       "Quantum object: dims = [[2, 2], [2, 2]], shape = (4, 4), type = oper, isherm = False\n",
       "Qobj data =\n",
       "[[ 1.        +0.j          0.        +0.j          0.        +0.j\n",
       "   0.        +0.j        ]\n",
       " [ 0.        +0.j         -0.80898624+0.58782757j  0.        +0.j\n",
       "   0.        +0.j        ]\n",
       " [ 0.        +0.j          0.        +0.j         -0.30896748+0.9510726j\n",
       "   0.        +0.j        ]\n",
       " [ 0.        +0.j          0.        +0.j          0.        +0.j\n",
       "  -0.30907055-0.95103911j]]"
      ]
     },
     "execution_count": 17,
     "metadata": {},
     "output_type": "execute_result"
    }
   ],
   "source": [
    "q_pmatrix = np.array([[1,0,0,0], \n",
    "              [0, np.exp(-1j*angle_list2[1][0][0]), 0, 0],\n",
    "              [0,0, np.exp(-1j*angle_list2[2][0][0]), 0],\n",
    "              [0,0,0, np.exp(-1j *angle_list2[3][0][0])]])\n",
    "# single qubit rotation correcting phase gate during ZZ inter\n",
    "q_phase_gate = Qobj(q_pmatrix,\n",
    "              dims = [[2,2], [2,2]])\n",
    "q_phase_gate"
   ]
  },
  {
   "cell_type": "code",
   "execution_count": 18,
   "metadata": {},
   "outputs": [
    {
     "data": {
      "text/latex": [
       "Quantum object: dims = [[2, 2], [2, 2]], shape = (4, 4), type = oper, isherm = False $ \\\\ \\left(\\begin{matrix}1.0 & (-0.002+0.096j) & (0.012+0.223j) & (-0.001-0.004j)\\\\(-0.093-0.015j) & (-0.139+1.012j) & (-0.014-0.020j) & (0.068-0.030j)\\\\(-0.214-0.059j) & (-0.006-0.002j) & (-0.209+0.975j) & (0.008+0.124j)\\\\(0.015-0.026j) & (0.038-0.065j) & (-0.116-0.028j) & (1.019-0.025j)\\\\\\end{matrix}\\right)$"
      ],
      "text/plain": [
       "Quantum object: dims = [[2, 2], [2, 2]], shape = (4, 4), type = oper, isherm = False\n",
       "Qobj data =\n",
       "[[ 1.        +0.j         -0.00177408+0.09639408j  0.01224242+0.22253748j\n",
       "  -0.00139876-0.0043591j ]\n",
       " [-0.09318989-0.01478346j -0.13897008+1.0122457j  -0.01388629-0.02019926j\n",
       "   0.0680107 -0.03008869j]\n",
       " [-0.21368842-0.0590355j  -0.00643592-0.0016984j  -0.20948236+0.97492188j\n",
       "   0.00810564+0.12399784j]\n",
       " [ 0.01541099-0.02645222j  0.03827437-0.06503705j -0.11640068-0.02845647j\n",
       "   1.0185256 -0.02451019j]]"
      ]
     },
     "execution_count": 18,
     "metadata": {},
     "output_type": "execute_result"
    }
   ],
   "source": [
    "# Correcting single qubit phase during ZZ inter\n",
    "Usim_p = Usim * q_phase_gate\n",
    "Usim_p"
   ]
  },
  {
   "cell_type": "code",
   "execution_count": 19,
   "metadata": {},
   "outputs": [
    {
     "data": {
      "text/latex": [
       "Quantum object: dims = [[2, 2], [2, 2]], shape = (4, 4), type = oper, isherm = False $ \\\\ \\left(\\begin{matrix}1.0 & 0.0 & 0.0 & 0.0\\\\0.0 & (-0.136-0.991j) & 0.0 & 0.0\\\\0.0 & 0.0 & (-0.136-0.991j) & 0.0\\\\0.0 & 0.0 & 0.0 & (-0.963+0.269j)\\\\\\end{matrix}\\right)$"
      ],
      "text/plain": [
       "Quantum object: dims = [[2, 2], [2, 2]], shape = (4, 4), type = oper, isherm = False\n",
       "Qobj data =\n",
       "[[ 1.        +0.j          0.        +0.j          0.        +0.j\n",
       "   0.        +0.j        ]\n",
       " [ 0.        +0.j         -0.13601307-0.99070704j  0.        +0.j\n",
       "   0.        +0.j        ]\n",
       " [ 0.        +0.j          0.        +0.j         -0.13601307-0.99070704j\n",
       "   0.        +0.j        ]\n",
       " [ 0.        +0.j          0.        +0.j          0.        +0.j\n",
       "  -0.96300089+0.26949821j]]"
      ]
     },
     "execution_count": 19,
     "metadata": {},
     "output_type": "execute_result"
    }
   ],
   "source": [
    "# Phase gate after ZZ inter, correcting single qubit phase\n",
    "phi12 = -np.angle(Usim_p.data[1,1])\n",
    "c_pmatrix = np.array([[1,0,0,0], \n",
    "              [0, np.exp(1j*phi12), 0, 0],\n",
    "              [0,0, np.exp(1j*phi12), 0],\n",
    "              [0,0,0, np.exp(1j *2*phi12)]])\n",
    "# correcting phase gate\n",
    "c_phase_gate = Qobj(c_pmatrix,\n",
    "              dims = [[2,2], [2,2]])\n",
    "c_phase_gate"
   ]
  },
  {
   "cell_type": "code",
   "execution_count": 20,
   "metadata": {},
   "outputs": [
    {
     "data": {
      "text/latex": [
       "Quantum object: dims = [[2, 2], [2, 2]], shape = (4, 4), type = oper, isherm = False $ \\\\ \\left(\\begin{matrix}1.0 & (0.096-0.011j) & (0.219-0.042j) & (0.003+0.004j)\\\\(-0.093-0.015j) & 1.022 & (-0.018+0.017j) & (-0.057+0.047j)\\\\(-0.214-0.059j) & (-8.072\\times10^{-04}+0.007j) & (0.994+0.075j) & (-0.041-0.117j)\\\\(0.015-0.026j) & (-0.070-0.029j) & (-0.012+0.119j) & (-0.974+0.298j)\\\\\\end{matrix}\\right)$"
      ],
      "text/plain": [
       "Quantum object: dims = [[2, 2], [2, 2]], shape = (4, 4), type = oper, isherm = False\n",
       "Qobj data =\n",
       "[[ 1.00000000e+00+0.j          9.57395942e-02-0.01135327j\n",
       "   2.18804317e-01-0.04239666j  2.52177950e-03+0.00382085j]\n",
       " [-9.31898936e-02-0.01478346j  1.02174069e+00+0.j\n",
       "  -1.81228326e-02+0.01650461j -5.73855167e-02+0.0473042j ]\n",
       " [-2.13688423e-01-0.0590355j  -8.07246633e-04+0.00660712j\n",
       "   9.94354307e-01+0.07493354j -4.12229317e-02-0.11722557j]\n",
       " [ 1.54109863e-02-0.02645222j -6.96384749e-02-0.0290728j\n",
       "  -1.23600087e-02+0.11918943j -9.74235610e-01+0.29809416j]]"
      ]
     },
     "execution_count": 20,
     "metadata": {},
     "output_type": "execute_result"
    }
   ],
   "source": [
    "Uphase = Usim_p * c_phase_gate\n",
    "Uphase"
   ]
  },
  {
   "cell_type": "markdown",
   "metadata": {},
   "source": [
    "#### Cal ideal Uphase"
   ]
  },
  {
   "cell_type": "code",
   "execution_count": 21,
   "metadata": {},
   "outputs": [
    {
     "data": {
      "text/latex": [
       "Quantum object: dims = [[2, 2], [2, 2]], shape = (4, 4), type = oper, isherm = False $ \\\\ \\left(\\begin{matrix}1.0 & 0.0 & 0.0 & 0.0\\\\0.0 & 1.0 & 0.0 & 0.0\\\\0.0 & 0.0 & 1.0 & 0.0\\\\0.0 & 0.0 & 0.0 & (-0.963+0.269j)\\\\\\end{matrix}\\right)$"
      ],
      "text/plain": [
       "Quantum object: dims = [[2, 2], [2, 2]], shape = (4, 4), type = oper, isherm = False\n",
       "Qobj data =\n",
       "[[ 1.        +0.j          0.        +0.j          0.        +0.j\n",
       "   0.        +0.j        ]\n",
       " [ 0.        +0.j          1.        +0.j          0.        +0.j\n",
       "   0.        +0.j        ]\n",
       " [ 0.        +0.j          0.        +0.j          1.        +0.j\n",
       "   0.        +0.j        ]\n",
       " [ 0.        +0.j          0.        +0.j          0.        +0.j\n",
       "  -0.96300089+0.26949821j]]"
      ]
     },
     "execution_count": 21,
     "metadata": {},
     "output_type": "execute_result"
    }
   ],
   "source": [
    "Uphase_ideal_matrix = np.array([[1,0,0,0], \n",
    "              [0, 1, 0, 0],\n",
    "              [0,0, 1, 0],\n",
    "              [0,0,0, np.exp(1j*2*phi12)]])\n",
    "Uphase_ideal = Qobj(Uphase_ideal_matrix, dims= [[2,2], [2,2]])\n",
    "Uphase_ideal\n"
   ]
  },
  {
   "cell_type": "code",
   "execution_count": 22,
   "metadata": {},
   "outputs": [],
   "source": [
    "pickle.dump(Uphase_ideal_matrix, open('../../../Data/Uphase_ideal.pkl', 'wb'))"
   ]
  },
  {
   "cell_type": "markdown",
   "metadata": {},
   "source": [
    "#### Load ideal Uphase and cal fidelity"
   ]
  },
  {
   "cell_type": "code",
   "execution_count": 23,
   "metadata": {},
   "outputs": [
    {
     "data": {
      "text/latex": [
       "Quantum object: dims = [[2, 2], [2, 2]], shape = (4, 4), type = oper, isherm = False $ \\\\ \\left(\\begin{matrix}1.0 & 0.0 & 0.0 & 0.0\\\\0.0 & 1.0 & 0.0 & 0.0\\\\0.0 & 0.0 & 1.0 & 0.0\\\\0.0 & 0.0 & 0.0 & (-0.963+0.269j)\\\\\\end{matrix}\\right)$"
      ],
      "text/plain": [
       "Quantum object: dims = [[2, 2], [2, 2]], shape = (4, 4), type = oper, isherm = False\n",
       "Qobj data =\n",
       "[[ 1.        +0.j          0.        +0.j          0.        +0.j\n",
       "   0.        +0.j        ]\n",
       " [ 0.        +0.j          1.        +0.j          0.        +0.j\n",
       "   0.        +0.j        ]\n",
       " [ 0.        +0.j          0.        +0.j          1.        +0.j\n",
       "   0.        +0.j        ]\n",
       " [ 0.        +0.j          0.        +0.j          0.        +0.j\n",
       "  -0.96300089+0.26949821j]]"
      ]
     },
     "execution_count": 23,
     "metadata": {},
     "output_type": "execute_result"
    }
   ],
   "source": [
    "Uphase_ideal_matrix = pickle.load(open('../../../Data/Uphase_ideal.pkl', 'rb'))\n",
    "Uphase_ideal = Qobj(Uphase_ideal_matrix, dims= [[2,2], [2,2]])\n",
    "Uphase_ideal"
   ]
  },
  {
   "cell_type": "code",
   "execution_count": null,
   "metadata": {},
   "outputs": [],
   "source": []
  },
  {
   "cell_type": "code",
   "execution_count": 24,
   "metadata": {},
   "outputs": [
    {
     "name": "stdout",
     "output_type": "stream",
     "text": [
      "Fidelity: 100.8733918711%\n"
     ]
    }
   ],
   "source": [
    "f = (1/4*(Uphase_ideal*Uphase.dag()).tr())\n",
    "f = abs(f)\n",
    "print('Fidelity:{: .10%}'.format(f))##### fidelity"
   ]
  },
  {
   "cell_type": "code",
   "execution_count": 55,
   "metadata": {},
   "outputs": [
    {
     "data": {
      "text/latex": [
       "Quantum object: dims = [[2, 2], [2, 2]], shape = (4, 4), type = oper, isherm = False $ \\\\ \\left(\\begin{matrix}1.0 & (-0.043+0.008j) & (-0.088+0.151j) & (0.009-0.008j)\\\\(0.044+0.010j) & 0.998 & (0.008-0.012j) & (-0.018-0.186j)\\\\(0.087+0.152j) & (-0.015+0.002j) & (0.995+0.010j) & (-0.107+0.001j)\\\\(-0.003+0.001j) & (0.080+0.169j) & (-0.092+0.054j) & (-0.857+0.502j)\\\\\\end{matrix}\\right)$"
      ],
      "text/plain": [
       "Quantum object: dims = [[2, 2], [2, 2]], shape = (4, 4), type = oper, isherm = False\n",
       "Qobj data =\n",
       "[[ 1.        +0.j         -0.04292607+0.00775256j -0.08833023+0.15147564j\n",
       "   0.0088594 -0.00788683j]\n",
       " [ 0.04410601+0.00964278j  0.99784837+0.j          0.00801811-0.01237505j\n",
       "  -0.0177106 -0.18580702j]\n",
       " [ 0.08671428+0.1523959j  -0.01484529+0.00155633j  0.99516605+0.00985924j\n",
       "  -0.10663105+0.00122122j]\n",
       " [-0.00263655+0.0010269j   0.07986761+0.16906934j -0.09194397+0.0540306j\n",
       "  -0.85672004+0.50246463j]]"
      ]
     },
     "execution_count": 55,
     "metadata": {},
     "output_type": "execute_result"
    }
   ],
   "source": [
    "Uphase"
   ]
  },
  {
   "cell_type": "markdown",
   "metadata": {},
   "source": [
    "## Physical spin case\n",
    "### Define system\n",
    "\n",
    "* Single spin freq\n",
    "$\\omega_i = g\\mu_B B_i$\n",
    "here, $g=2$, $omega_i = [0, 15, 25, 28]$ MHz. Good case: $omega_i = [0, 150, 250, 350]$ MHz .\n",
    "\n",
    "* Static coupling\n",
    "$J_{ij} \\approx 0.5\\sim 1MHz$\n",
    "\n",
    "* Bias amp: $J_{23} = 20 \\sim 100 MHz$\n"
   ]
  },
  {
   "cell_type": "code",
   "execution_count": 3,
   "metadata": {},
   "outputs": [
    {
     "data": {
      "text/latex": [
       "Quantum object: dims = [[2, 2, 2, 2], [2, 2, 2, 2]], shape = (16, 16), type = oper, isherm = True\\begin{equation*}\\left(\\begin{array}{*{11}c}0.069 & 0.0 & 0.0 & 0.0 & 0.0 & \\cdots & 0.0 & 0.0 & 0.0 & 0.0 & 0.0\\\\0.0 & 62.970 & 0.025 & 0.0 & 0.0 & \\cdots & 0.0 & 0.0 & 0.0 & 0.0 & 0.0\\\\0.0 & 0.025 & 62.983 & 0.0 & 0.050 & \\cdots & 0.0 & 0.0 & 0.0 & 0.0 & 0.0\\\\0.0 & 0.0 & 0.0 & 125.934 & 0.0 & \\cdots & 0.0 & 0.0 & 0.0 & 0.0 & 0.0\\\\0.0 & 0.0 & 0.050 & 0.0 & 62.788 & \\cdots & 0.0 & 0.0 & 0.0 & 0.0 & 0.0\\\\\\vdots & \\vdots & \\vdots & \\vdots & \\vdots & \\ddots & \\vdots & \\vdots & \\vdots & \\vdots & \\vdots\\\\0.0 & 0.0 & 0.0 & 0.0 & 0.0 & \\cdots & 188.879 & 0.0 & 0.050 & 0.0 & 0.0\\\\0.0 & 0.0 & 0.0 & 0.0 & 0.0 & \\cdots & 0.0 & 125.858 & 0.0 & 0.0 & 0.0\\\\0.0 & 0.0 & 0.0 & 0.0 & 0.0 & \\cdots & 0.050 & 0.0 & 188.759 & 0.025 & 0.0\\\\0.0 & 0.0 & 0.0 & 0.0 & 0.0 & \\cdots & 0.0 & 0.0 & 0.025 & 188.873 & 0.0\\\\0.0 & 0.0 & 0.0 & 0.0 & 0.0 & \\cdots & 0.0 & 0.0 & 0.0 & 0.0 & 251.824\\\\\\end{array}\\right)\\end{equation*}"
      ],
      "text/plain": [
       "Quantum object: dims = [[2, 2, 2, 2], [2, 2, 2, 2]], shape = (16, 16), type = oper, isherm = True\n",
       "Qobj data =\n",
       "[[6.91150384e-02 0.00000000e+00 0.00000000e+00 0.00000000e+00\n",
       "  0.00000000e+00 0.00000000e+00 0.00000000e+00 0.00000000e+00\n",
       "  0.00000000e+00 0.00000000e+00 0.00000000e+00 0.00000000e+00\n",
       "  0.00000000e+00 0.00000000e+00 0.00000000e+00 0.00000000e+00]\n",
       " [0.00000000e+00 6.29700831e+01 2.51327412e-02 0.00000000e+00\n",
       "  0.00000000e+00 0.00000000e+00 0.00000000e+00 0.00000000e+00\n",
       "  0.00000000e+00 0.00000000e+00 0.00000000e+00 0.00000000e+00\n",
       "  0.00000000e+00 0.00000000e+00 0.00000000e+00 0.00000000e+00]\n",
       " [0.00000000e+00 2.51327412e-02 6.29826495e+01 0.00000000e+00\n",
       "  5.02654825e-02 0.00000000e+00 0.00000000e+00 0.00000000e+00\n",
       "  0.00000000e+00 0.00000000e+00 0.00000000e+00 0.00000000e+00\n",
       "  0.00000000e+00 0.00000000e+00 0.00000000e+00 0.00000000e+00]\n",
       " [0.00000000e+00 0.00000000e+00 0.00000000e+00 1.25933883e+02\n",
       "  0.00000000e+00 5.02654825e-02 0.00000000e+00 0.00000000e+00\n",
       "  0.00000000e+00 0.00000000e+00 0.00000000e+00 0.00000000e+00\n",
       "  0.00000000e+00 0.00000000e+00 0.00000000e+00 0.00000000e+00]\n",
       " [0.00000000e+00 0.00000000e+00 5.02654825e-02 0.00000000e+00\n",
       "  6.27878708e+01 0.00000000e+00 0.00000000e+00 0.00000000e+00\n",
       "  6.28318531e-02 0.00000000e+00 0.00000000e+00 0.00000000e+00\n",
       "  0.00000000e+00 0.00000000e+00 0.00000000e+00 0.00000000e+00]\n",
       " [0.00000000e+00 0.00000000e+00 0.00000000e+00 5.02654825e-02\n",
       "  0.00000000e+00 1.25688839e+02 2.51327412e-02 0.00000000e+00\n",
       "  0.00000000e+00 6.28318531e-02 0.00000000e+00 0.00000000e+00\n",
       "  0.00000000e+00 0.00000000e+00 0.00000000e+00 0.00000000e+00]\n",
       " [0.00000000e+00 0.00000000e+00 0.00000000e+00 0.00000000e+00\n",
       "  0.00000000e+00 2.51327412e-02 1.25801936e+02 0.00000000e+00\n",
       "  0.00000000e+00 0.00000000e+00 6.28318531e-02 0.00000000e+00\n",
       "  0.00000000e+00 0.00000000e+00 0.00000000e+00 0.00000000e+00]\n",
       " [0.00000000e+00 0.00000000e+00 0.00000000e+00 0.00000000e+00\n",
       "  0.00000000e+00 0.00000000e+00 0.00000000e+00 1.88753170e+02\n",
       "  0.00000000e+00 0.00000000e+00 0.00000000e+00 6.28318531e-02\n",
       "  0.00000000e+00 0.00000000e+00 0.00000000e+00 0.00000000e+00]\n",
       " [0.00000000e+00 0.00000000e+00 0.00000000e+00 0.00000000e+00\n",
       "  6.28318531e-02 0.00000000e+00 0.00000000e+00 0.00000000e+00\n",
       "  6.30140654e+01 0.00000000e+00 0.00000000e+00 0.00000000e+00\n",
       "  0.00000000e+00 0.00000000e+00 0.00000000e+00 0.00000000e+00]\n",
       " [0.00000000e+00 0.00000000e+00 0.00000000e+00 0.00000000e+00\n",
       "  0.00000000e+00 6.28318531e-02 0.00000000e+00 0.00000000e+00\n",
       "  0.00000000e+00 1.25915034e+02 2.51327412e-02 0.00000000e+00\n",
       "  0.00000000e+00 0.00000000e+00 0.00000000e+00 0.00000000e+00]\n",
       " [0.00000000e+00 0.00000000e+00 0.00000000e+00 0.00000000e+00\n",
       "  0.00000000e+00 0.00000000e+00 6.28318531e-02 0.00000000e+00\n",
       "  0.00000000e+00 2.51327412e-02 1.25927600e+02 0.00000000e+00\n",
       "  5.02654825e-02 0.00000000e+00 0.00000000e+00 0.00000000e+00]\n",
       " [0.00000000e+00 0.00000000e+00 0.00000000e+00 0.00000000e+00\n",
       "  0.00000000e+00 0.00000000e+00 0.00000000e+00 6.28318531e-02\n",
       "  0.00000000e+00 0.00000000e+00 0.00000000e+00 1.88878834e+02\n",
       "  0.00000000e+00 5.02654825e-02 0.00000000e+00 0.00000000e+00]\n",
       " [0.00000000e+00 0.00000000e+00 0.00000000e+00 0.00000000e+00\n",
       "  0.00000000e+00 0.00000000e+00 0.00000000e+00 0.00000000e+00\n",
       "  0.00000000e+00 0.00000000e+00 5.02654825e-02 0.00000000e+00\n",
       "  1.25858485e+02 0.00000000e+00 0.00000000e+00 0.00000000e+00]\n",
       " [0.00000000e+00 0.00000000e+00 0.00000000e+00 0.00000000e+00\n",
       "  0.00000000e+00 0.00000000e+00 0.00000000e+00 0.00000000e+00\n",
       "  0.00000000e+00 0.00000000e+00 0.00000000e+00 5.02654825e-02\n",
       "  0.00000000e+00 1.88759453e+02 2.51327412e-02 0.00000000e+00]\n",
       " [0.00000000e+00 0.00000000e+00 0.00000000e+00 0.00000000e+00\n",
       "  0.00000000e+00 0.00000000e+00 0.00000000e+00 0.00000000e+00\n",
       "  0.00000000e+00 0.00000000e+00 0.00000000e+00 0.00000000e+00\n",
       "  0.00000000e+00 2.51327412e-02 1.88872550e+02 0.00000000e+00]\n",
       " [0.00000000e+00 0.00000000e+00 0.00000000e+00 0.00000000e+00\n",
       "  0.00000000e+00 0.00000000e+00 0.00000000e+00 0.00000000e+00\n",
       "  0.00000000e+00 0.00000000e+00 0.00000000e+00 0.00000000e+00\n",
       "  0.00000000e+00 0.00000000e+00 0.00000000e+00 2.51823784e+02]]"
      ]
     },
     "execution_count": 3,
     "metadata": {},
     "output_type": "execute_result"
    }
   ],
   "source": [
    "freq_list = [ # GHz\n",
    "    [0, 10.028],\n",
    "    [0, 10],\n",
    "    [0, 10.025],\n",
    "    [0, 10.015]\n",
    "]\n",
    "\n",
    "inter_list = [\n",
    "    [{\n",
    "        \"v01\": 0,\n",
    "        \"v00\": 1,\n",
    "        \"v11\": -1\n",
    "    },\n",
    "    {\n",
    "        \"v01\": 0,\n",
    "        \"v00\": 1,\n",
    "        \"v11\": -1\n",
    "    }\n",
    "    ,\n",
    "    {\n",
    "        \"v01\": 0,\n",
    "        \"v00\": 1,\n",
    "        \"v11\": -1\n",
    "    },\n",
    "    {\n",
    "        \"v01\": 0,\n",
    "        \"v00\": 1,\n",
    "        \"v11\": -1\n",
    "    }],\n",
    "    [{\n",
    "        \"v01\": 1,\n",
    "        \"v00\": 0,\n",
    "        \"v11\": 0\n",
    "    },\n",
    "    {\n",
    "        \"v01\": 1,\n",
    "        \"v00\": 0,\n",
    "        \"v11\": 0\n",
    "    }\n",
    "    ,\n",
    "    {\n",
    "        \"v01\": 1,\n",
    "        \"v00\": 0,\n",
    "        \"v11\": 0\n",
    "    },\n",
    "    {\n",
    "        \"v01\": 1,\n",
    "        \"v00\": 0,\n",
    "        \"v11\": 0\n",
    "    }],\n",
    "    [{\n",
    "        \"v01\": -1j,\n",
    "        \"v00\": 0,\n",
    "        \"v11\": 0\n",
    "    },\n",
    "    {\n",
    "        \"v01\": -1j,\n",
    "        \"v00\": 0,\n",
    "        \"v11\": 0\n",
    "    }\n",
    "    ,\n",
    "    {\n",
    "        \"v01\": -1j,\n",
    "        \"v00\": 0,\n",
    "        \"v11\": 0\n",
    "    },\n",
    "    {\n",
    "        \"v01\": -1j,\n",
    "        \"v00\": 0,\n",
    "        \"v11\": 0\n",
    "    }]\n",
    "]\n",
    "\n",
    "r_dic = {\n",
    "    \"r12\": 5e-3,\n",
    "    \"r23\": 4e-3,\n",
    "    \"r34\": 2e-3\n",
    "}\n",
    "r = tools.r2matrix(r_dic, freq_list) # Coupling strength\n",
    "\n",
    "extra_list=None\n",
    "## with pulse type XY\n",
    "driving_list = [\n",
    "    {\n",
    "        \"W01\": 1j   # W01 represents \\Omega_{01}, for the qubit with index 0\n",
    "    },\n",
    "    {\n",
    "        \"W01\": 1j\n",
    "    },\n",
    "    {\n",
    "        \"W01\": 1j\n",
    "    },\n",
    "    {\n",
    "        \"W01\": 1j\n",
    "    }\n",
    "]\n",
    "\n",
    "## with pulse type Z\n",
    "bias_list = [ # Default, Z00 = 0\n",
    "    {\n",
    "        \"Z11\": 1\n",
    "    },\n",
    "    {\n",
    "        \"Z11\": 1\n",
    "    },\n",
    "    {\n",
    "        \"Z11\": 1\n",
    "    },\n",
    "    {\n",
    "        \"Z11\": 1\n",
    "    }\n",
    "]\n",
    "\n",
    "gamma_list = None\n",
    "\n",
    "# gamma_list = None\n",
    "\n",
    "_system_arb1 = aqs.arb_qubit_system(freq_list, inter_list, r, extra_list, gamma_list, driving_list, bias_list)\n",
    "\n",
    "state_0000, E_0000, _= _system_arb1.get_eigenstates_energy((0,0,0,0))\n",
    "\n",
    "state_0001, E_0001, _= _system_arb1.get_eigenstates_energy((0,0,0,1))\n",
    "state_0010, E_0010, _= _system_arb1.get_eigenstates_energy((0,0,1,0))\n",
    "state_0100, E_0100, _= _system_arb1.get_eigenstates_energy((0,1,0,0))\n",
    "state_1000, E_1000, _= _system_arb1.get_eigenstates_energy((1,0,0,0))\n",
    "\n",
    "\"\"\"subspace\"\"\"\n",
    "state_0101, E_0101, index_0101= _system_arb1.get_eigenstates_energy((0,1,0,1))\n",
    "state_1001, E_1001, index_1001= _system_arb1.get_eigenstates_energy((1,0,0,1))\n",
    "state_0110, E_0110, index_0110= _system_arb1.get_eigenstates_energy((0,1,1,0))\n",
    "state_1010, E_1010, index_1010= _system_arb1.get_eigenstates_energy((1,0,1,0))\n",
    "\n",
    "\"\"\"leakage\"\"\"\n",
    "state_0011, E_0011, index_0011= _system_arb1.get_eigenstates_energy((0,0,1,1))\n",
    "state_1100, E_1100, index_1100= _system_arb1.get_eigenstates_energy((1,1,0,0))\n",
    "\n",
    "state_0111, E_0111, _= _system_arb1.get_eigenstates_energy((0,1,1,1))\n",
    "state_1011, E_1011, _= _system_arb1.get_eigenstates_energy((1,0,1,1))\n",
    "state_1101, E_1101, _= _system_arb1.get_eigenstates_energy((1,1,0,1))\n",
    "state_1110, E_1110, _= _system_arb1.get_eigenstates_energy((1,1,1,0))\n",
    "\n",
    "state_1111, E_1111, _= _system_arb1.get_eigenstates_energy((1,1,1,1))\n",
    "\n",
    "_system_arb1.H"
   ]
  },
  {
   "cell_type": "markdown",
   "metadata": {},
   "source": [
    "### Energy level\n"
   ]
  },
  {
   "cell_type": "markdown",
   "metadata": {},
   "source": [
    "\n",
    "#### $\\omega_2$ scan"
   ]
  },
  {
   "cell_type": "code",
   "execution_count": 19,
   "metadata": {},
   "outputs": [],
   "source": [
    "num_level = 16 # Num of level we want to see\n",
    "w2_scan_space= np.linspace(9, 12, 800)\n",
    "w =copy.deepcopy(freq_list)\n",
    "\n",
    "energy_level_list = []\n",
    "for w2 in w2_scan_space:\n",
    "    dummy_list = []\n",
    "    w[1][1] = w2\n",
    "    _system_arb1 = aqs.arb_qubit_system(w, inter_list, r, extra_list, gamma_list, driving_list, bias_list)\n",
    "    for j in range(0,num_level):\n",
    "        dummy_list.append((_system_arb1.H.eigenenergies()[j] / np.pi/2).real)\n",
    "    energy_level_list.append(dummy_list)"
   ]
  },
  {
   "cell_type": "code",
   "execution_count": 20,
   "metadata": {},
   "outputs": [
    {
     "data": {
      "image/png": "[encoded data removed]",
      "text/plain": [
       "<Figure size 640x480 with 1 Axes>"
      ]
     },
     "metadata": {},
     "output_type": "display_data"
    },
    {
     "data": {
      "text/plain": [
       "0"
      ]
     },
     "execution_count": 20,
     "metadata": {},
     "output_type": "execute_result"
    }
   ],
   "source": [
    "%matplotlib inline\n",
    "pl.plot_Elevel_dynamics(w2_scan_space, energy_level_list, [index_0101, index_1100, index_0011], \"\\omega_2\")"
   ]
  },
  {
   "cell_type": "code",
   "execution_count": 21,
   "metadata": {},
   "outputs": [
    {
     "data": {
      "image/png": "[encoded data removed]",
      "text/plain": [
       "<Figure size 640x480 with 1 Axes>"
      ]
     },
     "metadata": {},
     "output_type": "display_data"
    },
    {
     "data": {
      "text/plain": [
       "0"
      ]
     },
     "execution_count": 21,
     "metadata": {},
     "output_type": "execute_result"
    }
   ],
   "source": [
    "# %matplotlib qt\n",
    "pl.plot_Elevel_dynamics(w2_scan_space, energy_level_list, [index_0101, index_1010, index_0110, index_1001], \"\\omega_2\")"
   ]
  },
  {
   "cell_type": "code",
   "execution_count": 22,
   "metadata": {},
   "outputs": [
    {
     "data": {
      "image/png": "[encoded data removed]",
      "text/plain": [
       "<Figure size 640x480 with 1 Axes>"
      ]
     },
     "metadata": {},
     "output_type": "display_data"
    },
    {
     "data": {
      "text/plain": [
       "0"
      ]
     },
     "execution_count": 22,
     "metadata": {},
     "output_type": "execute_result"
    }
   ],
   "source": [
    "# %matplotlib qt\n",
    "pl.plot_Elevel_dynamics(w2_scan_space, energy_level_list, [index_0101, index_1010, index_0110, index_1001, index_0011, index_1100], \"\\omega_2\")"
   ]
  },
  {
   "cell_type": "markdown",
   "metadata": {},
   "source": [
    "#### $J_{23}$ scan"
   ]
  },
  {
   "cell_type": "code",
   "execution_count": 5,
   "metadata": {},
   "outputs": [],
   "source": [
    "num_level = 16 # Num of level we want to see\n",
    "j23_scan_space= np.linspace(0.01e-3, 300e-3, 1000)\n",
    "j_dic =copy.deepcopy(r_dic)\n",
    "\n",
    "energy_level_list = []\n",
    "for j23 in j23_scan_space:\n",
    "    dummy_list = []\n",
    "    j_dic[\"r23\"] = j23\n",
    "    j_matrix = tools.r2matrix(j_dic, freq_list)\n",
    "    _system_arb1 = aqs.arb_qubit_system(freq_list, inter_list, j_matrix, extra_list, gamma_list, driving_list, bias_list)\n",
    "    for j in range(0,num_level):\n",
    "        dummy_list.append((_system_arb1.H.eigenenergies()[j] / np.pi/2).real)\n",
    "    energy_level_list.append(dummy_list)"
   ]
  },
  {
   "cell_type": "code",
   "execution_count": 11,
   "metadata": {},
   "outputs": [
    {
     "data": {
      "image/png": "[encoded data removed]",
      "text/plain": [
       "<Figure size 432x288 with 1 Axes>"
      ]
     },
     "metadata": {
      "needs_background": "light"
     },
     "output_type": "display_data"
    },
    {
     "data": {
      "text/plain": [
       "0"
      ]
     },
     "execution_count": 11,
     "metadata": {},
     "output_type": "execute_result"
    }
   ],
   "source": [
    "%matplotlib inline\n",
    "pl.plot_Elevel_dynamics(j23_scan_space, energy_level_list, [index_0101, index_1010, index_0110, index_1001, index_0011, index_1100], \"J_{23}\", xrange=[0,50e-3], yrange=[19.95,20.08])"
   ]
  },
  {
   "cell_type": "code",
   "execution_count": 124,
   "metadata": {},
   "outputs": [
    {
     "name": "stdout",
     "output_type": "stream",
     "text": [
      "Subspace: E1010=21.874091354873737, E1001=21.41293137028615, E_0110=19.813061794275313, E0101=19.271933048307524\n",
      "Leakage space: E0011=20.88798648225715, E1100=20.285996086616972\n"
     ]
    }
   ],
   "source": [
    "print(f'Subspace: E1010={E_1010}, E1001={E_1001}, E_0110={E_0110}, E0101={E_0101}')\n",
    "print(f'Leakage space: E0011={E_0011}, E1100={E_1100}')"
   ]
  },
  {
   "cell_type": "code",
   "execution_count": 127,
   "metadata": {},
   "outputs": [
    {
     "name": "stdout",
     "output_type": "stream",
     "text": [
      "Subspace: index1010=10, index1001=9, Eindex0110=6, index0101=5\n",
      "Leakage space: index0011=8, index1100=7\n"
     ]
    }
   ],
   "source": [
    "print(f'Subspace: index1010={index_1010}, index1001={index_1001}, Eindex0110={index_0110}, index0101={index_0101}')\n",
    "print(f'Leakage space: index0011={index_0011}, index1100={index_1100}')"
   ]
  },
  {
   "cell_type": "markdown",
   "metadata": {},
   "source": [
    "### System dynamics"
   ]
  },
  {
   "cell_type": "code",
   "execution_count": 30,
   "metadata": {},
   "outputs": [
    {
     "data": {
      "image/png": "[encoded data removed]",
      "text/plain": [
       "<Figure size 640x480 with 2 Axes>"
      ]
     },
     "metadata": {},
     "output_type": "display_data"
    },
    {
     "data": {
      "text/plain": [
       "0"
      ]
     },
     "execution_count": 30,
     "metadata": {},
     "output_type": "execute_result"
    }
   ],
   "source": [
    "t_width = 111; bisa_amp = 100e-3\n",
    "\n",
    "simulation_option = {\n",
    "    \"simulation_time\": 111, # ns\n",
    "    \"simulation_step\": 10000,\n",
    "    \"initial_state\": [state_0101, state_0110, state_1001, state_1010] # Do multiple simulation\n",
    "}\n",
    "\n",
    "noise_chan1 = [\n",
    "    {\n",
    "    'type': 'white',\n",
    "    'switch': 'off',\n",
    "    'std': bisa_amp*0.3,\n",
    "    }\n",
    "]\n",
    "noise_chan2 = [\n",
    "    {\n",
    "    'type': '1/f',\n",
    "    'switch': 'on',\n",
    "    'scale': 0.3,\n",
    "    'alpha': 0.9,\n",
    "    }\n",
    "]\n",
    "noise_chan3 = [\n",
    "    {\n",
    "    'type': '1/f',\n",
    "    'switch': 'on',\n",
    "    'scale': 0.12,\n",
    "    'alpha': 0.92,\n",
    "    }\n",
    "]\n",
    "noise_chan4 = [\n",
    "    {\n",
    "    'type': 'gaussian',\n",
    "    'switch': 'on',\n",
    "    'mean': 0,\n",
    "    'std': 0.2\n",
    "    }\n",
    "]\n",
    "noise_chan5 = [\n",
    "    {\n",
    "    'type': 'gaussian',\n",
    "    'switch': 'on',\n",
    "    'mean':0,\n",
    "    'std': 0.1\n",
    "    }\n",
    "]\n",
    "\n",
    "pulse_sequence = [\n",
    "    {\n",
    "        'pulse_index': 0, # [m,n] represents $\\Omega_{mn}$\n",
    "        'type': \"INT\",\n",
    "        'pulse_shape': \"cosine\",\n",
    "        't_delay': 0, # unit in ns\n",
    "        't_width': t_width, # unit in ns\n",
    "        't_plateau':simulation_option['simulation_time'] - t_width , # unit in ns\n",
    "        'freq': 0, # unit in GHz; Z pulse does not use it\n",
    "        'phase': 0, # unit in rad; Z pulse does not use it\n",
    "        'amplitude': bisa_amp, # XY: Rabi freq; Z: biased frequency\n",
    "        'q_index': (1,2),\n",
    "        'noise': noise_chan1\n",
    "    },\n",
    "    # {\n",
    "    #     'pulse_index': 1,\n",
    "    #     'type': \"Z\",\n",
    "    #     \"pulse_shape\": \"square\",\n",
    "    #     't_delay': 0, # unit in ns\n",
    "    #     't_width': 0, # unit in ns\n",
    "    #     't_plateau':simulation_option['simulation_time'], # unit in ns\n",
    "    #     'freq': 0, # unit in GHz; Z pulse does not use it\n",
    "    #     'phase': 0, # unit in rad; Z pulse does not use it\n",
    "    #     'amplitude': 0, # XY: Rabi freq; Z: biased frequency\n",
    "    #     'q_index': 0,\n",
    "    #     'noise': noise_chan2\n",
    "    # },\n",
    "    # {\n",
    "    #     'pulse_index': 2,\n",
    "    #     'type': \"Z\",\n",
    "    #     \"pulse_shape\": \"square\",\n",
    "    #     't_delay': 0, # unit in ns\n",
    "    #     't_width': 0, # unit in ns\n",
    "    #     't_plateau':simulation_option['simulation_time'], # unit in ns\n",
    "    #     'freq': 0, # unit in GHz; Z pulse does not use it\n",
    "    #     'phase': 0, # unit in rad; Z pulse does not use it\n",
    "    #     'amplitude': 0, # XY: Rabi freq; Z: biased frequency\n",
    "    #     'q_index': 1,\n",
    "    #     'noise': noise_chan3\n",
    "    # },\n",
    "    # {\n",
    "    #     'pulse_index': 3,\n",
    "    #     'type': \"XY\",\n",
    "    #     \"pulse_shape\": \"square\",\n",
    "    #     't_delay': 0, # unit in ns\n",
    "    #     't_width': 0, # unit in ns\n",
    "    #     't_plateau':simulation_option['simulation_time'], # unit in ns\n",
    "    #     'freq': 0, # unit in GHz; Z pulse does not use it\n",
    "    #     'phase': 0, # unit in rad; Z pulse does not use it\n",
    "    #     'amplitude': 0, # XY: Rabi freq; Z: biased frequency\n",
    "    #     'q_index': 0,\n",
    "    #     'noise': noise_chan4\n",
    "    # },\n",
    "    # {\n",
    "    #     'pulse_index': 4,\n",
    "    #     'type': \"XY\",\n",
    "    #     \"pulse_shape\": \"square\",\n",
    "    #     't_delay': 0, # unit in ns\n",
    "    #     't_width': 0, # unit in ns\n",
    "    #     't_plateau':simulation_option['simulation_time'], # unit in ns\n",
    "    #     'freq': 0, # unit in GHz; Z pulse does not use it\n",
    "    #     'phase': 0, # unit in rad; Z pulse does not use it\n",
    "    #     'amplitude': 0, # XY: Rabi freq; Z: biased frequency\n",
    "    #     'q_index': 1,\n",
    "    #     'noise': noise_chan5\n",
    "    # }\n",
    "]\n",
    "\n",
    "%matplotlib inline\n",
    "## Notice that the all pulses'  amplitude are rescaled by a factor 1/1.2\n",
    "pl.plot_pulse_sequence(pulse_sequence, simulation_option)"
   ]
  },
  {
   "cell_type": "code",
   "execution_count": 31,
   "metadata": {},
   "outputs": [
    {
     "name": "stdout",
     "output_type": "stream",
     "text": [
      "12.5%. Run time:   4.27s. Est. time left: 00:00:00:29\n",
      "25.0%. Run time:   4.77s. Est. time left: 00:00:00:14\n",
      "31.2%. Run time:   5.01s. Est. time left: 00:00:00:11\n",
      "43.8%. Run time:   5.13s. Est. time left: 00:00:00:06\n",
      "50.0%. Run time:   5.36s. Est. time left: 00:00:00:05\n",
      "62.5%. Run time:   5.48s. Est. time left: 00:00:00:03\n",
      "75.0%. Run time:   5.80s. Est. time left: 00:00:00:01\n",
      "81.2%. Run time:   5.86s. Est. time left: 00:00:00:01\n",
      "93.8%. Run time:   6.19s. Est. time left: 00:00:00:00\n",
      "100.0%. Run time:   6.25s. Est. time left: 00:00:00:00\n",
      "Total run time:   6.30s\n"
     ]
    },
    {
     "data": {
      "text/plain": [
       "[array([[2.22756723]]),\n",
       " array([[1.25061781]]),\n",
       " array([[3.86782499]]),\n",
       " array([[3.37248685]])]"
      ]
     },
     "execution_count": 31,
     "metadata": {},
     "output_type": "execute_result"
    }
   ],
   "source": [
    "result_list, angle_list = _system_arb1.system_dynamics_mesolve(simulation_option, pulse_sequence)\n",
    "propa_list = _system_arb1.system_dynamics_propagator(simulation_option, pulse_sequence)\n",
    "angle_list"
   ]
  },
  {
   "cell_type": "code",
   "execution_count": 32,
   "metadata": {},
   "outputs": [
    {
     "name": "stdout",
     "output_type": "stream",
     "text": [
      "state index 0 leakages to 0011: Quantum object: dims = [[1], [1]], shape = (1, 1), type = bra\n",
      "Qobj data =\n",
      "[[7.75325618e-07-4.20229028e-07j]]\n",
      "state index 0 leakages to 1100: Quantum object: dims = [[1], [1]], shape = (1, 1), type = bra\n",
      "Qobj data =\n",
      "[[1.61327384e-11-3.04895737e-11j]]\n",
      "state index 1 leakages to 0011: Quantum object: dims = [[1], [1]], shape = (1, 1), type = bra\n",
      "Qobj data =\n",
      "[[4.29789445e-09-6.48023637e-09j]]\n",
      "state index 1 leakages to 1100: Quantum object: dims = [[1], [1]], shape = (1, 1), type = bra\n",
      "Qobj data =\n",
      "[[1.78027234e-10+8.77768095e-08j]]\n",
      "state index 2 leakages to 0011: Quantum object: dims = [[1], [1]], shape = (1, 1), type = bra\n",
      "Qobj data =\n",
      "[[-4.56602061e-08-1.53141551e-08j]]\n",
      "state index 2 leakages to 1100: Quantum object: dims = [[1], [1]], shape = (1, 1), type = bra\n",
      "Qobj data =\n",
      "[[6.61081253e-09-1.78895183e-09j]]\n",
      "state index 3 leakages to 0011: Quantum object: dims = [[1], [1]], shape = (1, 1), type = bra\n",
      "Qobj data =\n",
      "[[-3.56965079e-11-2.72142564e-12j]]\n",
      "state index 3 leakages to 1100: Quantum object: dims = [[1], [1]], shape = (1, 1), type = bra\n",
      "Qobj data =\n",
      "[[-6.5311398e-07+3.66942583e-07j]]\n"
     ]
    }
   ],
   "source": [
    "state_0011.dag() * result_list[3].states[-1]\n",
    "for i in range(4):\n",
    "    print(f'state index {i} leakages to 0011: {state_0011.dag() * result_list[i].states[-1]}')\n",
    "    print(f'state index {i} leakages to 1100: {state_1100.dag() * result_list[i].states[-1]}')"
   ]
  },
  {
   "cell_type": "code",
   "execution_count": 33,
   "metadata": {},
   "outputs": [
    {
     "data": {
      "text/latex": [
       "Quantum object: dims = [[2, 2], [2, 2]], shape = (4, 4), type = oper, isherm = False $ \\\\ \\left(\\begin{matrix}1.0 & (-4.179\\times10^{-07}-3.087\\times10^{-07}j) & (-6.088\\times10^{-07}-3.050\\times10^{-07}j) & (-8.914\\times10^{-10}-2.391\\times10^{-10}j)\\\\(-4.575\\times10^{-07}+6.999\\times10^{-08}j) & (0.560-0.829j) & (6.075\\times10^{-11}+3.465\\times10^{-10}j) & (-6.201\\times10^{-07}+2.576\\times10^{-07}j)\\\\(6.686\\times10^{-07}-1.096\\times10^{-06}j) & (-4.726\\times10^{-10}-3.163\\times10^{-10}j) & (-0.069+0.998j) & (1.595\\times10^{-07}-1.691\\times10^{-07}j)\\\\(-4.943\\times10^{-10}-1.913\\times10^{-09}j) & (2.130\\times10^{-07}-1.180\\times10^{-06}j) & (5.599\\times10^{-08}-3.430\\times10^{-07}j) & (0.413+0.911j)\\\\\\end{matrix}\\right)$"
      ],
      "text/plain": [
       "Quantum object: dims = [[2, 2], [2, 2]], shape = (4, 4), type = oper, isherm = False\n",
       "Qobj data =\n",
       "[[ 1.00000000e+00+0.00000000e+00j -4.17889794e-07-3.08655343e-07j\n",
       "  -6.08799968e-07-3.04987167e-07j -8.91439477e-10-2.39081217e-10j]\n",
       " [-4.57526949e-07+6.99920621e-08j  5.59553328e-01-8.28794312e-01j\n",
       "   6.07467893e-11+3.46474043e-10j -6.20110341e-07+2.57590940e-07j]\n",
       " [ 6.68603429e-07-1.09598532e-06j -4.72581586e-10-3.16312340e-10j\n",
       "  -6.94060741e-02+9.97588471e-01j  1.59476323e-07-1.69106893e-07j]\n",
       " [-4.94323164e-10-1.91275688e-09j  2.12987693e-07-1.18000388e-06j\n",
       "   5.59906514e-08-3.43027915e-07j  4.13119392e-01+9.10676816e-01j]]"
      ]
     },
     "execution_count": 33,
     "metadata": {},
     "output_type": "execute_result"
    }
   ],
   "source": [
    "U = propa_list[-1] # get the Unitary \n",
    "\n",
    "# Perform partial trace, tracing out the coupler degree of freedom\n",
    "slist = [\n",
    "    state_0101, state_0110, state_1001, state_1010\n",
    "]\n",
    "sdlist = [\n",
    "    state_0101.dag(), state_0110.dag(), state_1001.dag(), state_1010.dag()\n",
    "]\n",
    "dims = [len(sdlist), len(slist)];   umatrix = []\n",
    "for i in range(dims[0]):\n",
    "    umatrix_row = []\n",
    "    for j in range(dims[1]):\n",
    "        umatrix_row.append(sdlist[i] * U * slist[j])\n",
    "    umatrix.append(umatrix_row)\n",
    "\n",
    "Usim = Qobj(np.array(umatrix).reshape(dims[0],dims[1]), dims = [[int(np.sqrt(dims[0])), int(np.sqrt(dims[0]))], [int(np.sqrt(dims[1])), int(np.sqrt(dims[1]))]])\n",
    "Usim = Usim/Usim.data[0,0]\n",
    "Usim"
   ]
  },
  {
   "cell_type": "code",
   "execution_count": 34,
   "metadata": {},
   "outputs": [
    {
     "name": "stdout",
     "output_type": "stream",
     "text": [
      "Subspace: index1010=10, index1001=9, Eindex0110=6, index0101=5\n",
      "Leakage space: index0011=8, index1100=7\n"
     ]
    },
    {
     "data": {
      "text/plain": [
       "[array([[4.39795206]]),\n",
       " array([[1.25630764]]),\n",
       " array([[3.76949966]]),\n",
       " array([[0.62791785]])]"
      ]
     },
     "execution_count": 34,
     "metadata": {},
     "output_type": "execute_result"
    }
   ],
   "source": [
    "# Construct a decoupled system\n",
    "r_dic = {\n",
    "    \"r12\": 0,\n",
    "    \"r23\": 0,\n",
    "    \"r34\": 0\n",
    "}\n",
    "r = tools.r2matrix(r_dic, freq_list) # Coupling strength\n",
    "extra_list=None\n",
    "_system_arb2 = aqs.arb_qubit_system(freq_list, inter_list, r, extra_list, gamma_list, driving_list, bias_list)\n",
    "\n",
    "\"\"\"subspace\"\"\"\n",
    "state_0101, E_0101, index_0101= _system_arb1.get_eigenstates_energy((0,1,0,1))\n",
    "state_1001, E_1001, index_1001= _system_arb1.get_eigenstates_energy((1,0,0,1))\n",
    "state_0110, E_0110, index_0110= _system_arb1.get_eigenstates_energy((0,1,1,0))\n",
    "state_1010, E_1010, index_1010= _system_arb1.get_eigenstates_energy((1,0,1,0))\n",
    "simulation_option2 = copy.deepcopy(simulation_option)\n",
    "simulation_option2['initial_state'] = [state_0101, state_0110, state_1001, state_1010]\n",
    "# simulation_option2['simulation_time'] = 154\n",
    "pulse_sequence2 = [\n",
    "    {\n",
    "        'pulse_index': 1, # [m,n] represents $\\Omega_{mn}$\n",
    "        'type': \"INT\",\n",
    "        'pulse_shape': \"cosine\",\n",
    "        't_delay': 0, # unit in ns\n",
    "        't_width': t_width, # unit in ns\n",
    "        't_plateau':simulation_option2['simulation_time'] - t_width , # unit in ns\n",
    "        'freq': 0, # unit in GHz; Z pulse does not use it\n",
    "        'phase': 0, # unit in rad; Z pulse does not use it\n",
    "        'amplitude': 0, # XY: Rabi freq; Z: biased frequency\n",
    "        'q_index': (1,2)\n",
    "    }\n",
    "]\n",
    "\n",
    "print(f'Subspace: index1010={index_1010}, index1001={index_1001}, Eindex0110={index_0110}, index0101={index_0101}')\n",
    "print(f'Leakage space: index0011={index_0011}, index1100={index_1100}')\n",
    "\n",
    "result_list2, angle_list2 = _system_arb2.system_dynamics_mesolve(simulation_option2, pulse_sequence2)\n",
    "angle_list2"
   ]
  },
  {
   "cell_type": "code",
   "execution_count": 35,
   "metadata": {},
   "outputs": [
    {
     "data": {
      "text/latex": [
       "Quantum object: dims = [[2, 2], [2, 2]], shape = (4, 4), type = oper, isherm = False $ \\\\ \\left(\\begin{matrix}1.000 & 0.0 & 0.0 & 0.0\\\\0.0 & (-1.000-5.177\\times10^{-05}j) & 0.0 & 0.0\\\\0.0 & 0.0 & (0.809+0.588j) & 0.0\\\\0.0 & 0.0 & 0.0 & (-0.809-0.588j)\\\\\\end{matrix}\\right)$"
      ],
      "text/plain": [
       "Quantum object: dims = [[2, 2], [2, 2]], shape = (4, 4), type = oper, isherm = False\n",
       "Qobj data =\n",
       "[[ 1.        +0.00000000e+00j  0.        +0.00000000e+00j\n",
       "   0.        +0.00000000e+00j  0.        +0.00000000e+00j]\n",
       " [ 0.        +0.00000000e+00j -1.        -5.17653959e-05j\n",
       "   0.        +0.00000000e+00j  0.        +0.00000000e+00j]\n",
       " [ 0.        +0.00000000e+00j  0.        +0.00000000e+00j\n",
       "   0.8089383 +5.87893548e-01j  0.        +0.00000000e+00j]\n",
       " [ 0.        +0.00000000e+00j  0.        +0.00000000e+00j\n",
       "   0.        +0.00000000e+00j -0.80894468-5.87884776e-01j]]"
      ]
     },
     "execution_count": 35,
     "metadata": {},
     "output_type": "execute_result"
    }
   ],
   "source": [
    "q_pmatrix = np.array([[np.exp(-1j*angle_list2[0][0][0]),0,0,0], \n",
    "              [0, np.exp(-1j*angle_list2[1][0][0]), 0, 0],\n",
    "              [0,0, np.exp(-1j*angle_list2[2][0][0]), 0],\n",
    "              [0,0,0, np.exp(-1j *angle_list2[3][0][0])]])\n",
    "# single qubit rotation correcting phase gate during ZZ inter\n",
    "q_phase_gate = Qobj(q_pmatrix,\n",
    "              dims = [[2,2], [2,2]])\n",
    "q_phase_gate = q_phase_gate/q_phase_gate.data[0,0]\n",
    "q_phase_gate"
   ]
  },
  {
   "cell_type": "code",
   "execution_count": 36,
   "metadata": {},
   "outputs": [
    {
     "data": {
      "text/latex": [
       "Quantum object: dims = [[2, 2], [2, 2]], shape = (4, 4), type = oper, isherm = False $ \\\\ \\left(\\begin{matrix}1.0 & (4.179\\times10^{-07}+3.087\\times10^{-07}j) & (-3.132\\times10^{-07}-6.046\\times10^{-07}j) & (5.806\\times10^{-10}+7.175\\times10^{-10}j)\\\\(-4.575\\times10^{-07}+6.999\\times10^{-08}j) & (-0.560+0.829j) & (-1.545\\times10^{-10}+3.160\\times10^{-10}j) & (6.531\\times10^{-07}+1.562\\times10^{-07}j)\\\\(6.686\\times10^{-07}-1.096\\times10^{-06}j) & (4.726\\times10^{-10}+3.163\\times10^{-10}j) & (-0.643+0.766j) & (-2.284\\times10^{-07}+4.304\\times10^{-08}j)\\\\(-4.943\\times10^{-10}-1.913\\times10^{-09}j) & (-2.130\\times10^{-07}+1.180\\times10^{-06}j) & (2.470\\times10^{-07}-2.446\\times10^{-07}j) & (0.201-0.980j)\\\\\\end{matrix}\\right)$"
      ],
      "text/plain": [
       "Quantum object: dims = [[2, 2], [2, 2]], shape = (4, 4), type = oper, isherm = False\n",
       "Qobj data =\n",
       "[[ 1.00000000e+00+0.00000000e+00j  4.17873816e-07+3.08676974e-07j\n",
       "  -3.13181625e-07-6.04625374e-07j  5.80573012e-10+7.17467175e-10j]\n",
       " [-4.57526949e-07+6.99920621e-08j -5.59596230e-01+8.28765346e-01j\n",
       "  -1.54549450e-10+3.15988770e-10j  6.53068751e-07+1.56176609e-07j]\n",
       " [ 6.68603429e-07-1.09598532e-06j  4.72565211e-10+3.16336803e-10j\n",
       "  -6.42621057e-01+7.66184141e-01j -2.28422890e-07+4.30444185e-08j]\n",
       " [-4.94323164e-10-1.91275688e-09j -2.13048776e-07+1.17999285e-06j\n",
       "   2.46956880e-07-2.44571876e-07j  2.01182302e-01-9.79553764e-01j]]"
      ]
     },
     "execution_count": 36,
     "metadata": {},
     "output_type": "execute_result"
    }
   ],
   "source": [
    "Usim_p = Usim * q_phase_gate\n",
    "Usim_p"
   ]
  },
  {
   "cell_type": "code",
   "execution_count": 37,
   "metadata": {},
   "outputs": [
    {
     "data": {
      "text/latex": [
       "Quantum object: dims = [[2, 2], [2, 2]], shape = (4, 4), type = oper, isherm = False $ \\\\ \\left(\\begin{matrix}1.0 & 0.0 & 0.0 & 0.0\\\\0.0 & (-0.560-0.829j) & 0.0 & 0.0\\\\0.0 & 0.0 & (-0.560-0.829j) & 0.0\\\\0.0 & 0.0 & 0.0 & (-0.374+0.928j)\\\\\\end{matrix}\\right)$"
      ],
      "text/plain": [
       "Quantum object: dims = [[2, 2], [2, 2]], shape = (4, 4), type = oper, isherm = False\n",
       "Qobj data =\n",
       "[[ 1.        +0.j          0.        +0.j          0.        +0.j\n",
       "   0.        +0.j        ]\n",
       " [ 0.        +0.j         -0.55959625-0.82876537j  0.        +0.j\n",
       "   0.        +0.j        ]\n",
       " [ 0.        +0.j          0.        +0.j         -0.55959625-0.82876537j\n",
       "   0.        +0.j        ]\n",
       " [ 0.        +0.j          0.        +0.j          0.        +0.j\n",
       "  -0.37370408+0.92754798j]]"
      ]
     },
     "execution_count": 37,
     "metadata": {},
     "output_type": "execute_result"
    }
   ],
   "source": [
    "# Phase gate after ZZ inter, correcting single qubit phase\n",
    "phi12 = -np.angle(Usim_p.data[1,1])\n",
    "c_pmatrix = np.array([[1,0,0,0], \n",
    "              [0, np.exp(1j*phi12), 0, 0],\n",
    "              [0,0, np.exp(1j*phi12), 0],\n",
    "              [0,0,0, np.exp(1j *2*phi12)]])\n",
    "# correcting phase gate\n",
    "c_phase_gate = Qobj(c_pmatrix,\n",
    "              dims = [[2,2], [2,2]])\n",
    "c_phase_gate"
   ]
  },
  {
   "cell_type": "code",
   "execution_count": 38,
   "metadata": {},
   "outputs": [
    {
     "data": {
      "text/latex": [
       "Quantum object: dims = [[2, 2], [2, 2]], shape = (4, 4), type = oper, isherm = False $ \\\\ \\left(\\begin{matrix}1.0 & (2.198\\times10^{-08}-5.191\\times10^{-07}j) & (-3.258\\times10^{-07}+5.979\\times10^{-07}j) & (-8.824\\times10^{-10}+2.704\\times10^{-10}j)\\\\(-4.575\\times10^{-07}+6.999\\times10^{-08}j) & 1.000 & (3.484\\times10^{-10}-4.874\\times10^{-11}j) & (-3.889\\times10^{-07}+5.474\\times10^{-07}j)\\\\(6.686\\times10^{-07}-1.096\\times10^{-06}j) & (-2.277\\times10^{-12}-5.687\\times10^{-10}j) & (0.995+0.104j) & (4.544\\times10^{-08}-2.280\\times10^{-07}j)\\\\(-4.943\\times10^{-10}-1.913\\times10^{-09}j) & (1.097\\times10^{-06}-4.838\\times10^{-07}j) & (-3.409\\times10^{-07}-6.781\\times10^{-08}j) & (0.833+0.553j)\\\\\\end{matrix}\\right)$"
      ],
      "text/plain": [
       "Quantum object: dims = [[2, 2], [2, 2]], shape = (4, 4), type = oper, isherm = False\n",
       "Qobj data =\n",
       "[[ 1.00000000e+00+0.00000000e+00j  2.19801681e-08-5.19053824e-07j\n",
       "  -3.25837311e-07+5.97900176e-07j -8.82447734e-10+2.70388915e-10j]\n",
       " [-4.57526949e-07+6.99920621e-08j  9.99999970e-01+0.00000000e+00j\n",
       "   3.48365842e-10-4.87408975e-11j -3.88915755e-07+5.47388767e-07j]\n",
       " [ 6.68603429e-07-1.09598532e-06j -2.27673065e-12-5.68666571e-10j\n",
       "   9.94595216e-01+1.03828309e-01j  4.54368026e-08-2.27959066e-07j]\n",
       " [-4.94323164e-10-1.91275688e-09j  1.09715851e-06-4.83752124e-07j\n",
       "  -3.40888845e-07-6.78078063e-08j  8.33400470e-01+5.52669477e-01j]]"
      ]
     },
     "execution_count": 38,
     "metadata": {},
     "output_type": "execute_result"
    }
   ],
   "source": [
    "Uphase = Usim_p * c_phase_gate\n",
    "Uphase"
   ]
  },
  {
   "cell_type": "markdown",
   "metadata": {},
   "source": [
    "#### Cal ideal Cphase"
   ]
  },
  {
   "cell_type": "code",
   "execution_count": 39,
   "metadata": {},
   "outputs": [
    {
     "data": {
      "text/latex": [
       "Quantum object: dims = [[2, 2], [2, 2]], shape = (4, 4), type = oper, isherm = False $ \\\\ \\left(\\begin{matrix}1.0 & 0.0 & 0.0 & 0.0\\\\0.0 & 1.0 & 0.0 & 0.0\\\\0.0 & 0.0 & 1.0 & 0.0\\\\0.0 & 0.0 & 0.0 & (-0.374+0.928j)\\\\\\end{matrix}\\right)$"
      ],
      "text/plain": [
       "Quantum object: dims = [[2, 2], [2, 2]], shape = (4, 4), type = oper, isherm = False\n",
       "Qobj data =\n",
       "[[ 1.        +0.j          0.        +0.j          0.        +0.j\n",
       "   0.        +0.j        ]\n",
       " [ 0.        +0.j          1.        +0.j          0.        +0.j\n",
       "   0.        +0.j        ]\n",
       " [ 0.        +0.j          0.        +0.j          1.        +0.j\n",
       "   0.        +0.j        ]\n",
       " [ 0.        +0.j          0.        +0.j          0.        +0.j\n",
       "  -0.37370408+0.92754798j]]"
      ]
     },
     "execution_count": 39,
     "metadata": {},
     "output_type": "execute_result"
    }
   ],
   "source": [
    "Uphase_ideal_matrix = np.array([[1,0,0,0], \n",
    "              [0, 1, 0, 0],\n",
    "              [0,0, 1, 0],\n",
    "              [0,0,0, np.exp(1j*2*phi12)]])\n",
    "Uphase_ideal = Qobj(Uphase_ideal_matrix, dims= [[2,2], [2,2]])\n",
    "Uphase_ideal"
   ]
  },
  {
   "cell_type": "code",
   "execution_count": 151,
   "metadata": {},
   "outputs": [],
   "source": [
    "pickle.dump(Uphase_ideal_matrix, open('../../../Data/Uphase_ideal_4spin.pkl', 'wb'))"
   ]
  },
  {
   "cell_type": "markdown",
   "metadata": {},
   "source": [
    "#### Load ideal Uphase and calculate fidelity"
   ]
  },
  {
   "cell_type": "code",
   "execution_count": 174,
   "metadata": {},
   "outputs": [
    {
     "data": {
      "text/latex": [
       "Quantum object: dims = [[2, 2], [2, 2]], shape = (4, 4), type = oper, isherm = False $ \\\\ \\left(\\begin{matrix}1.0 & 0.0 & 0.0 & 0.0\\\\0.0 & 1.0 & 0.0 & 0.0\\\\0.0 & 0.0 & 1.0 & 0.0\\\\0.0 & 0.0 & 0.0 & (0.858+0.514j)\\\\\\end{matrix}\\right)$"
      ],
      "text/plain": [
       "Quantum object: dims = [[2, 2], [2, 2]], shape = (4, 4), type = oper, isherm = False\n",
       "Qobj data =\n",
       "[[1.        +0.j         0.        +0.j         0.        +0.j\n",
       "  0.        +0.j        ]\n",
       " [0.        +0.j         1.        +0.j         0.        +0.j\n",
       "  0.        +0.j        ]\n",
       " [0.        +0.j         0.        +0.j         1.        +0.j\n",
       "  0.        +0.j        ]\n",
       " [0.        +0.j         0.        +0.j         0.        +0.j\n",
       "  0.85793813+0.51375303j]]"
      ]
     },
     "execution_count": 174,
     "metadata": {},
     "output_type": "execute_result"
    }
   ],
   "source": [
    "Uphase_ideal_matrix = pickle.load(open('../../../Data/Uphase_ideal_4spin.pkl', 'rb'))\n",
    "Uphase_ideal = Qobj(Uphase_ideal_matrix, dims= [[2,2], [2,2]])\n",
    "Uphase_ideal"
   ]
  },
  {
   "cell_type": "code",
   "execution_count": 40,
   "metadata": {},
   "outputs": [
    {
     "name": "stdout",
     "output_type": "stream",
     "text": [
      "Fidelity: 82.8397882236%\n"
     ]
    }
   ],
   "source": [
    "f = (1/4*(Uphase_ideal*Uphase.dag()).tr())\n",
    "f = abs(f)\n",
    "print('Fidelity:{: .10%}'.format(f))##### fidelity"
   ]
  },
  {
   "cell_type": "code",
   "execution_count": null,
   "metadata": {},
   "outputs": [],
   "source": []
  }
 ],
 "metadata": {
  "kernelspec": {
   "display_name": "Qusim",
   "language": "python",
   "name": "python3"
  },
  "language_info": {
   "codemirror_mode": {
    "name": "ipython",
    "version": 3
   },
   "file_extension": ".py",
   "mimetype": "text/x-python",
   "name": "python",
   "nbconvert_exporter": "python",
   "pygments_lexer": "ipython3",
   "version": "3.10.0"
  }
 },
 "nbformat": 4,
 "nbformat_minor": 2
}
