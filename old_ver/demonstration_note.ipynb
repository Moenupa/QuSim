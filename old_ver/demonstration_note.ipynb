{
 "cells": [
  {
   "cell_type": "code",
   "execution_count": 2,
   "id": "b8cd0147-174b-474e-bd24-cc62817e9776",
   "metadata": {
    "tags": []
   },
   "outputs": [],
   "source": [
    "import matplotlib.pyplot as plt\n",
    "import numpy as np\n",
    "from qutip import *\n",
    "\n",
    "def fHamiltonian(N,w1,w2,w3,alpha1,alpha2,alpha3,g13,g12,g23):\n",
    "    \n",
    "    # N is the demension of each qubit,w123 denotes the frequencies,alpha123 denotes the anharmonicity,\n",
    "    # g denotes XY coupling strength, dont need to multiply 2pi\n",
    "    \n",
    "    a = destroy(N)\n",
    "    a_dagger = create(N)  \n",
    "    \n",
    "    H_w1= w1 * tensor(a_dagger * a, qeye(N), qeye(N)) \n",
    "    H_a1= alpha1 / 2 * tensor(a_dagger * a_dagger * a * a, qeye(N), qeye(N))\n",
    "    \n",
    "    H_w2=  w2 * tensor( qeye(N),a_dagger * a, qeye(N)) \n",
    "    H_a2= alpha2 / 2 * tensor( qeye(N),a_dagger * a_dagger * a * a, qeye(N))\n",
    "    \n",
    "    H_w3=  w3 * tensor( qeye(N), qeye(N),a_dagger * a) \n",
    "    H_a3= alpha3 / 2 * tensor( qeye(N), qeye(N),a_dagger * a_dagger * a * a)\n",
    "    \n",
    "    # print(\"H_w1 = {}\".format(H_w1))\n",
    "    # print(\"H_w2 = {}\".format(H_w2))\n",
    "    # print(\"H_w3 = {}\".format(H_w3))\n",
    "    # print(\"H_q = {}\".format(H_w1 + H_w2 + H_w3))\n",
    "\n",
    "    H_13 = g13 * tensor(a+a_dagger,qeye(N),a+a_dagger)\n",
    "    H_12 = g12 * tensor(a + a_dagger, a + a_dagger, qeye(N))\n",
    "    H_23 = g23 * tensor(qeye(N), a + a_dagger, a + a_dagger)\n",
    "\n",
    "    # print(\"H_13 = {}\".format(H_13))\n",
    "    # print(\"H_12 = {}\".format(H_12))\n",
    "    # print(\"H_23 = {}\".format(H_23))\n",
    "    # print(\"H_inter = {}\".format(H_13 + H_12 + H_23))\n",
    "\n",
    "\n",
    "    H_com= (H_w1+H_a1+H_w2+H_a2+H_w3+H_a3+H_12+H_23+H_13)*np.pi*2\n",
    "    \n",
    "    return H_com, [[H_w1, H_w2, H_w3], [H_a1, H_a2, H_a3]]\n",
    "\n",
    "def feigen(H,n1,n2,n3,N):\n",
    "    \n",
    "    # N is the demension of each qubit,n1 n2 n3 denotes the photon number on qubit123,H is the Hamiltonian\n",
    "    print(\"state_index2 = {}\".format(n1*N*N+n2*N+n3))\n",
    "    eigenlist=[np.abs(arr[n1*N*N+n2*N+n3][0][0].real) for arr in H.eigenstates()[1]]\n",
    "    max_value=max(eigenlist)\n",
    "    max_index = None\n",
    "                  \n",
    "    for index, value in enumerate(eigenlist):\n",
    "        if value == max_value:\n",
    "            max_index = index\n",
    "            break\n",
    "            \n",
    "            ### output: state in qobj, energylevel magnitude, index number of the energylevel\n",
    "            \n",
    "    return [H.eigenstates()[1][max_index],H.eigenenergies()[max_index]/np.pi/2,max_index]\n",
    "            \n",
    "\n",
    "    \n",
    "def HXYpulse(N,H_static,tg,t1,qn,ampl,freq):\n",
    "    \n",
    "    ampl=ampl*2*np.pi\n",
    "    \n",
    "    def mpulse(t, args): \n",
    "        if t<t1:\n",
    "            return ampl * np.cos(freq*np.pi*2*t)* (1/2-1/2*np.cos(np.pi*t/t1))\n",
    "        if t1<=t<=tg-t1:\n",
    "            return ampl * np.cos(freq*np.pi*2*t)\n",
    "        if tg-t1<t:\n",
    "            return ampl * np.cos(freq*np.pi*2*t)* (1/2-1/2*np.cos(np.pi*(t-tg+2*t1)/t1))\n",
    "        \n",
    "    a = destroy(N)\n",
    "    a_dagger = create(N)  \n",
    "    \n",
    "    if qn==1:\n",
    "        HXY=[H_static,[tensor(a+a_dagger,qeye(N), qeye(N)), mpulse]]\n",
    "    if qn==2:\n",
    "        HXY=[H_static,[tensor(qeye(N),a+a_dagger, qeye(N)), mpulse]]\n",
    "    if qn==3:\n",
    "        HXY=[H_static,[tensor(qeye(N), qeye(N),a+a_dagger), mpulse]]\n",
    "        \n",
    "    return HXY\n",
    "\n",
    "def HZpulse(N,H_static,tg,qn,ampl):\n",
    "    \n",
    "    ### half sin shape\n",
    "\n",
    "    def fpulse(t, args): \n",
    "        return ampl * np.sin(np.pi*t/t1)\n",
    "    \n",
    "    a = destroy(N)\n",
    "    a_dagger = create(N)  \n",
    "    \n",
    "    if qn==1:\n",
    "        HZ=[H_static,[tensor(a_dagger*a,qeye(N), qeye(N)), fpulse]]\n",
    "    if qn==2:\n",
    "        HZ=[H_static,[tensor(qeye(N),a_dagger*a, qeye(N)), fpulse]]\n",
    "    if qn==3:\n",
    "        HZ=[H_static,[tensor(qeye(N), qeye(N),a_dagger*a), fpulse]]\n",
    "\n",
    "    return HZ\n",
    "\n",
    "\n",
    "def coplist(N,G1up,G1down,G1Z,G2up,G2down,G2Z,G3up,G3down,G3Z):\n",
    "    \n",
    "    ao= destroy(N)\n",
    "    ad= create(N)\n",
    "\n",
    "    cop1up = np.sqrt(G1up)*tensor(ad,qeye(N),qeye(N))\n",
    "    cop1down = np.sqrt(G1down)*tensor(ao,qeye(N),qeye(N))\n",
    "    cop1Z = np.sqrt(G1Z)*tensor(ad*ao,qeye(N),qeye(N))\n",
    "    cop2up = np.sqrt(G2up)*tensor(qeye(N),ad,qeye(N))\n",
    "    cop2down = np.sqrt(G2down)*tensor(qeye(N),ao,qeye(N))\n",
    "    cop2Z = np.sqrt(G2Z)*tensor(qeye(N),qeye(N),ad*ao)\n",
    "    cop3up = np.sqrt(G3up)*tensor(qeye(N),qeye(N),ad)\n",
    "    cop3down = np.sqrt(G3down)*tensor(qeye(N),qeye(N),ao)\n",
    "    cop3Z = np.sqrt(G3Z)*tensor(qeye(N),qeye(N),ad*ao)\n",
    "    \n",
    "    return [cop1up,cop1down,cop1Z,cop2up,cop2down,cop2Z,cop3up,cop3down,cop3Z]\n",
    "\n",
    "\n",
    "    \n",
    "    \n",
    "def seoutput(H_d,tg,step,state):\n",
    "    tlist=np.linspace(0, tg, step)\n",
    " \n",
    "    option = Options(rtol=1e-8)\n",
    "        \n",
    "    output = mesolve(H_d, state, tlist, [], [], options=option)\n",
    "    \n",
    "    # result1 = np.angle(state.dag() * output.states[-1])\n",
    "        \n",
    "    return output\n",
    "\n",
    "def meoutput(H_d,tg,step,state,coplist):\n",
    "    tlist=np.linspace(0, tg, step)\n",
    " \n",
    "    option = Options(rtol=1e-8)\n",
    "        \n",
    "    output = mesolve(H_d, state, tlist, coplist, [], options=option)\n",
    "\n",
    "        \n",
    "    return output\n",
    "\n",
    "\n",
    "\n",
    "def dlist(output,step,state2):\n",
    "\n",
    "    \n",
    "    datalist=[]\n",
    "    for ii in range(0,step):\n",
    "        datalist.append(np.abs(((output.states[ii]).dag()*state2)[0][0][0])**2)\n",
    "        \n",
    "    return datalist\n",
    "\n",
    "\n",
    "def dlist_density(output,step,state2):\n",
    "\n",
    "    \n",
    "    datalist=[]\n",
    "    for ii in range(0,step):\n",
    "        datalist.append(((output.states[ii] * output.states[ii].dag()) * (state2 * state2.dag())).tr())\n",
    "        \n",
    "    return datalist\n",
    "    \n",
    "\n"
   ]
  },
  {
   "attachments": {},
   "cell_type": "markdown",
   "id": "ccc9c1cd-06ed-47c2-a291-4c2bd5aa3cea",
   "metadata": {
    "tags": []
   },
   "source": [
    "# basic information"
   ]
  },
  {
   "attachments": {},
   "cell_type": "markdown",
   "id": "a19ea744-fc86-450c-a63f-3e6eaec07a9e",
   "metadata": {},
   "source": [
    "## ZZ"
   ]
  },
  {
   "cell_type": "code",
   "execution_count": 2,
   "id": "ce073b5f",
   "metadata": {},
   "outputs": [],
   "source": [
    "import revised_ver.qubit_system as qs\n",
    "def g2matrix(g_dic):\n",
    "    n = len(g_dic)\n",
    "    g = [[0] * n for _ in range(n)]\n",
    "    \n",
    "    for i, key_i in enumerate(g_dic):\n",
    "        for j, key_j in enumerate(g_dic):\n",
    "            if j >= i:\n",
    "                g[i][j] = g_dic.get(f\"g{i+1}{j+1}\", 0)\n",
    "    \n",
    "    return g"
   ]
  },
  {
   "cell_type": "code",
   "execution_count": 13,
   "id": "b7bd3d11",
   "metadata": {},
   "outputs": [
    {
     "name": "stdout",
     "output_type": "stream",
     "text": [
      "g = [[0, 0.11, -0.006], [0, 0, 0.11], [0, 0, 0]]\n"
     ]
    }
   ],
   "source": [
    "N = 4 # Maximum excitation level\n",
    "w = [7, 0, 0] # Qubit frequency\n",
    "alpha =[-0.24, -0.14, -0.24] # Anharmonicity\n",
    "g_dic = {\n",
    "    \"g12\": 0.11,\n",
    "    \"g13\": -0.006,\n",
    "    \"g23\": 0.11\n",
    "}\n",
    "g = g2matrix(g_dic) # Coupling strength\n",
    "print(\"g = {}\".format(g))\n",
    "gamma_list = None # Gamma up, Gamma down, Gamma z\n",
    "\n",
    "system_1 = qs.qubit_system(N,w,alpha,g,gamma_list)\n",
    "check_q, check_a = system_1.check_list"
   ]
  },
  {
   "cell_type": "code",
   "execution_count": 3,
   "id": "af23aa41",
   "metadata": {},
   "outputs": [
    {
     "name": "stdout",
     "output_type": "stream",
     "text": [
      "==========\n"
     ]
    }
   ],
   "source": [
    "# import sys\n",
    "# np.set_printoptions(threshold=sys.maxsize)\n",
    "H, [check_q_2, check_a_2]=fHamiltonian(4,7,0,0,-0.24,-0.14,-0.24,-0.006,0.11,0.11)\n",
    "print(\"==========\")"
   ]
  },
  {
   "cell_type": "code",
   "execution_count": 8,
   "id": "605c260c-96e8-4ba3-81c6-c8aa1129ce93",
   "metadata": {
    "tags": []
   },
   "outputs": [
    {
     "name": "stdout",
     "output_type": "stream",
     "text": [
      "g = [[0, 0.11, -0.006], [0, 0, 0.11], [0, 0, 0]]\n",
      "state_index2 = 17\n",
      "state_index2 = 16\n",
      "state_index2 = 1\n",
      "state_index2 = 0\n",
      "state_index = 17\n",
      "state_index = 16\n",
      "state_index = 1\n",
      "state_index = 0\n",
      "True\n",
      "state_index = 17\n",
      "state_index = 16\n",
      "state_index = 1\n",
      "state_index = 0\n",
      "True\n",
      "state_index = 17\n",
      "state_index = 16\n",
      "state_index = 1\n",
      "state_index = 0\n",
      "True\n",
      "state_index2 = 17\n",
      "state_index2 = 16\n",
      "state_index2 = 1\n",
      "state_index2 = 0\n",
      "state_index = 17\n",
      "state_index = 16\n",
      "state_index = 1\n",
      "state_index = 0\n",
      "True\n",
      "state_index = 17\n",
      "state_index = 16\n",
      "state_index = 1\n",
      "state_index = 0\n",
      "True\n",
      "state_index = 17\n",
      "state_index = 16\n",
      "state_index = 1\n",
      "state_index = 0\n",
      "True\n",
      "state_index2 = 17\n",
      "state_index2 = 16\n",
      "state_index2 = 1\n",
      "state_index2 = 0\n",
      "state_index = 17\n",
      "state_index = 16\n",
      "state_index = 1\n",
      "state_index = 0\n",
      "True\n",
      "state_index = 17\n",
      "state_index = 16\n",
      "state_index = 1\n",
      "state_index = 0\n",
      "True\n",
      "state_index = 17\n",
      "state_index = 16\n",
      "state_index = 1\n",
      "state_index = 0\n",
      "True\n"
     ]
    }
   ],
   "source": [
    "N = 4 # Maximum excitation level\n",
    "w = [0, 0, 0] # Qubit frequency\n",
    "alpha =[-0.24, -0.14, -0.24] # Anharmonicity\n",
    "g_dic = {\n",
    "    \"g12\": 0.11,\n",
    "    \"g13\": -0.006,\n",
    "    \"g23\": 0.11\n",
    "}\n",
    "g = g2matrix(g_dic) # Coupling strength\n",
    "print(\"g = {}\".format(g))\n",
    "gamma_list = None # Gamma up, Gamma down, Gamma z\n",
    "\n",
    "xxlen = 3\n",
    "xx_list = np.linspace(5, 8, xxlen)  \n",
    "yylen = 3\n",
    "yy_list = np.linspace(6.6, 7.4, yylen)  \n",
    "\n",
    "zzlist= np.zeros((xxlen,yylen))\n",
    "index_list = []\n",
    "\n",
    "for yy,j in zip(yy_list,range(len(yy_list))):\n",
    "    \n",
    "    H1a, _=fHamiltonian(4,0,5,0,0,0,0,0,0,0)\n",
    "    H1b, _ =fHamiltonian(4,0,0,yy,0,0,0,0,0,0)        \n",
    "    H2=H+H1a+H1b\n",
    "    # H_1ab, _ = fHamiltonian(4,0,5,yy,0,0,0,0,0,0)\n",
    "    # print(H_1ab == H1a+H1b)\n",
    "    # w = [7,5,yy]\n",
    "    # system_2 = qs.qubit_system(N,w,alpha,g,gamma_list)\n",
    "    # print(system_2.H == H+H1a+H1b)\n",
    "\n",
    "    index11=feigen(H2,1,0,1,4)[2]\n",
    "    index10=feigen(H2,1,0,0,4)[2]\n",
    "    index01=feigen(H2,0,0,1,4)[2]\n",
    "    index00=feigen(H2,0,0,0,4)[2]  \n",
    "\n",
    "    # index_101 = system_2.get_eigenstates_energy([1,0,1])[2]\n",
    "    # index_100 = system_2.get_eigenstates_energy([1,0,0])[2]\n",
    "    # index_001 = system_2.get_eigenstates_energy([0,0,1])[2]\n",
    "    # index_000 = system_2.get_eigenstates_energy([0,0,0])[2]\n",
    "\n",
    "    # index_list.append([index11==index_101, index10==index_100, index01==index_001, index00==index_000])\n",
    "    for xx, i in zip(xx_list,range(len(xx_list))):\n",
    "    \n",
    "        H1a, _=fHamiltonian(4,0,xx,0,0,0,0,0,0,0)\n",
    "        H1b, _=fHamiltonian(4,0,0,yy,0,0,0,0,0,0)        \n",
    "        H2=H+H1a+H1b\n",
    "\n",
    "        eigene11=H2.eigenenergies()[index11]/np.pi/2\n",
    "        eigene10=H2.eigenenergies()[index10]/np.pi/2\n",
    "        eigene01=H2.eigenenergies()[index01]/np.pi/2       \n",
    "        eigene00=H2.eigenenergies()[index00]/np.pi/2\n",
    "\n",
    "        zzlist[i][j]=(-eigene11+eigene10+eigene01-eigene00)\n",
    "        \n",
    "    # print(yy)\n"
   ]
  },
  {
   "cell_type": "code",
   "execution_count": 7,
   "id": "d013b49d",
   "metadata": {},
   "outputs": [
    {
     "data": {
      "text/plain": [
       "[[True, True, True, True],\n",
       " [True, True, True, True],\n",
       " [False, False, False, True],\n",
       " [True, True, True, True],\n",
       " [True, False, False, True],\n",
       " [False, False, False, True],\n",
       " [True, True, True, True],\n",
       " [True, True, True, True],\n",
       " [False, False, False, True]]"
      ]
     },
     "execution_count": 7,
     "metadata": {},
     "output_type": "execute_result"
    }
   ],
   "source": [
    "index_list"
   ]
  },
  {
   "cell_type": "code",
   "execution_count": 3,
   "id": "af7652bd-e70f-4c31-8dca-da5c4be57b80",
   "metadata": {
    "tags": []
   },
   "outputs": [
    {
     "name": "stderr",
     "output_type": "stream",
     "text": [
      "<ipython-input-3-99421b000eb1>:13: MatplotlibDeprecationWarning: shading='flat' when X and Y have the same dimensions as C is deprecated since 3.3.  Either specify the corners of the quadrilaterals with X and Y, or pass shading='auto', 'nearest' or 'gouraud', or set rcParams['pcolor.shading'].  This will become an error two minor releases later.\n",
      "  p1 = ax1.pcolor(xxx, yyy, zzlist.T, cmap=matplotlib.cm.viridis_r,norm=nrm1)\n"
     ]
    },
    {
     "data": {
      "image/png": "[encoded data removed]",
      "text/plain": [
       "<Figure size 432x288 with 2 Axes>"
      ]
     },
     "metadata": {
      "needs_background": "light"
     },
     "output_type": "display_data"
    }
   ],
   "source": [
    "from pylab import *\n",
    "import matplotlib.pyplot as plt\n",
    "import matplotlib.ticker as tc\n",
    "import matplotlib\n",
    "\n",
    "xxx,yyy = np.meshgrid(xx_list,yy_list)\n",
    "\n",
    "nrm1 = matplotlib.colors.LogNorm(1e-6, 1e-1)  \n",
    "\n",
    "zzlist=np.abs(zzlist)\n",
    "\n",
    "fig1, ax1 = plt.subplots()\n",
    "p1 = ax1.pcolor(xxx, yyy, zzlist.T, cmap=matplotlib.cm.viridis_r,norm=nrm1)\n",
    "cb1 = fig1.colorbar(p1, ax=ax1,label='ZZ/GHz', extend='both')\n",
    "ax1.set_xlabel('$\\omega_c$/GHz')\n",
    "ax1.set_ylabel('$\\omega_2$/GHz')\n",
    "\n",
    "\n",
    "\n",
    "# np.savez('C:/Users/HP/Desktop/data/zzcancelampl2.npz',k_outlistF = out_listF,k_outlistallangle = out_listallangle)   \n",
    "\n",
    "plt.show()"
   ]
  },
  {
   "attachments": {},
   "cell_type": "markdown",
   "id": "27decff7-65ee-43de-9397-34b130c7e3bb",
   "metadata": {},
   "source": [
    "## energy level"
   ]
  },
  {
   "cell_type": "code",
   "execution_count": 3,
   "id": "03ed9d37-4b8f-4bc7-864e-57822532a6b4",
   "metadata": {
    "tags": []
   },
   "outputs": [],
   "source": [
    "H=fHamiltonian(4,5,0,4.7,-0.24,-0.14,-0.24,0.006,0.11,0.11)\n",
    "num=20   ####number of energy level you want to see\n",
    "xxlen = 101\n",
    "xx_list = np.linspace(5, 7, xxlen)  ###scan range\n",
    "elevel_list= np.zeros((xxlen,num))\n",
    "for xx, i in zip(xx_list,range(len(xx_list))):\n",
    "    H1=fHamiltonian(4,0,xx,0,0,0,0,0,0,0)\n",
    "    H2=H+H1\n",
    "    \n",
    "    for j in range(0,num):\n",
    "        elevel_list[i][j]=H2.eigenenergies()[j] / (2 * np.pi)"
   ]
  },
  {
   "cell_type": "code",
   "execution_count": 4,
   "id": "09fa5dd2-ee6b-4031-9d03-5dd611e9e3ac",
   "metadata": {
    "tags": []
   },
   "outputs": [
    {
     "data": {
      "text/plain": [
       "Text(0, 0.5, 'energylevel')"
      ]
     },
     "execution_count": 4,
     "metadata": {},
     "output_type": "execute_result"
    },
    {
     "data": {
      "image/png": "[encoded data removed]",
      "text/plain": [
       "<Figure size 432x288 with 1 Axes>"
      ]
     },
     "metadata": {
      "needs_background": "light"
     },
     "output_type": "display_data"
    }
   ],
   "source": [
    "for j in range(0,9):\n",
    "    plt.plot(xx_list,[v[j] for v in elevel_list])\n",
    "    \n",
    "plt.xlabel('$\\omega_c$/GHz')\n",
    "plt.ylabel('energylevel')"
   ]
  },
  {
   "attachments": {},
   "cell_type": "markdown",
   "id": "8ada3d10-1d42-4a56-82e9-161154bac3f7",
   "metadata": {},
   "source": [
    "# dynamic"
   ]
  },
  {
   "attachments": {},
   "cell_type": "markdown",
   "id": "92d8d54e-4d3f-47c2-ae53-db595a0250c4",
   "metadata": {},
   "source": [
    "## microwave drive on coupler"
   ]
  },
  {
   "cell_type": "code",
   "execution_count": 10,
   "id": "96835086-1c3e-4bfd-b89f-8f79a8abd6ca",
   "metadata": {
    "tags": []
   },
   "outputs": [
    {
     "name": "stdout",
     "output_type": "stream",
     "text": [
      "state_index2 = 17\n",
      "state_index2 = 17\n",
      "state_index2 = 16\n",
      "state_index2 = 16\n",
      "state_index2 = 1\n",
      "state_index2 = 1\n",
      "state_index2 = 0\n",
      "state_index2 = 0\n",
      "state_index2 = 4\n"
     ]
    }
   ],
   "source": [
    "H,_=fHamiltonian(4,6.3,5.85,6.2,-0.3,-0.3,-0.2,-0.005,0.05,0.05)\n",
    "\n",
    "e101=feigen(H,1,0,1,4)[1]\n",
    "st101=feigen(H,1,0,1,4)[0]\n",
    "\n",
    "e100=feigen(H,1,0,0,4)[1]\n",
    "st100=feigen(H,1,0,0,4)[0]\n",
    "\n",
    "e001=feigen(H,0,0,1,4)[1]\n",
    "st001=feigen(H,0,0,1,4)[0]\n",
    "\n",
    "e000=feigen(H,0,0,0,4)[1]\n",
    "st000=feigen(H,0,0,0,4)[0]\n",
    "\n",
    "e010=feigen(H,0,1,0,4)[1]\n"
   ]
  },
  {
   "cell_type": "code",
   "execution_count": 14,
   "id": "373e9057-db9d-4526-8ba4-6223073667de",
   "metadata": {
    "tags": []
   },
   "outputs": [
    {
     "data": {
      "text/plain": [
       "5.837099878968836"
      ]
     },
     "execution_count": 14,
     "metadata": {},
     "output_type": "execute_result"
    }
   ],
   "source": [
    "e010-e000"
   ]
  },
  {
   "cell_type": "code",
   "execution_count": 18,
   "id": "73bf6908-7460-4742-bab7-9ae4e17b1473",
   "metadata": {
    "tags": []
   },
   "outputs": [
    {
     "name": "stdout",
     "output_type": "stream",
     "text": [
      "state_index2 = 0\n",
      "state_index2 = 0\n"
     ]
    },
    {
     "data": {
      "text/plain": [
       "[<matplotlib.lines.Line2D at 0x1395e02e0>]"
      ]
     },
     "execution_count": 18,
     "metadata": {},
     "output_type": "execute_result"
    },
    {
     "data": {
      "image/png": "[encoded data removed]",
      "text/plain": [
       "<Figure size 432x288 with 1 Axes>"
      ]
     },
     "metadata": {
      "needs_background": "light"
     },
     "output_type": "display_data"
    }
   ],
   "source": [
    "HXY=HXYpulse(4,H,100,50,2,0.01,e010-e000)\n",
    "output=seoutput(HXY,200,2000,feigen(H,0,0,0,4)[0])\n",
    "datalist=dlist(output,2000,feigen(H,0,0,0,4)[0])\n",
    "xxlist=np.linspace(0,200,2000)\n",
    "plt.plot(xxlist,datalist)"
   ]
  },
  {
   "cell_type": "code",
   "execution_count": null,
   "id": "8256eada",
   "metadata": {},
   "outputs": [],
   "source": []
  }
 ],
 "metadata": {
  "kernelspec": {
   "display_name": "Python 3 (ipykernel)",
   "language": "python",
   "name": "python3"
  },
  "language_info": {
   "codemirror_mode": {
    "name": "ipython",
    "version": 3
   },
   "file_extension": ".py",
   "mimetype": "text/x-python",
   "name": "python",
   "nbconvert_exporter": "python",
   "pygments_lexer": "ipython3",
   "version": "3.9.0"
  }
 },
 "nbformat": 4,
 "nbformat_minor": 5
}
