{
 "cells": [
  {
   "cell_type": "code",
   "execution_count": null,
   "metadata": {},
   "outputs": [],
   "source": [
    "import numpy as np\n",
    "from qutip import *\n",
    "import matplotlib.pyplot as plt"
   ]
  },
  {
   "cell_type": "code",
   "execution_count": null,
   "metadata": {},
   "outputs": [],
   "source": [
    "class V:\n",
    "    def __init__(self, itf):\n",
    "        self.itf = itf\n",
    "\n",
    "class qubit_system:\n",
    "    def __init__(self, N, q_dim, w, alpha, r, gamma_list):\n",
    "        self.scan = {}\n",
    "        self.N = N\n",
    "        self.w = w\n",
    "        self.alpha = alpha\n",
    "        self.r = r\n",
    "        self.g = self.r\n",
    "        self.num_q = len(self.w)  # Number of qubits\n",
    "        self.q_dim = q_dim\n",
    "        self.a_list = enr_destroy(self.q_dim, excitations=self.N)  # Define the second quantization field operator\n",
    "        self.a_dagger_list = [dag(a) for a in self.a_list]\n",
    "        self.H_q, self.H_a = self.get_Hq_Ha()\n",
    "        self.H_inter = self.get_H_inter()\n",
    "        self.H = 2 * np.pi * (self.H_q + self.H_a + self.H_inter)\n",
    "        self.gamma_list = gamma_list\n",
    "        self.state_dic = enr_state_dictionaries(self.q_dim, self.N)\n"
   ]
  },
  {
   "cell_type": "code",
   "execution_count": 4,
   "metadata": {},
   "outputs": [
    {
     "name": "stdout",
     "output_type": "stream",
     "text": [
      "\u001b[0;31mSignature:\u001b[0m \u001b[0misinstance\u001b[0m\u001b[0;34m(\u001b[0m\u001b[0mobj\u001b[0m\u001b[0;34m,\u001b[0m \u001b[0mclass_or_tuple\u001b[0m\u001b[0;34m,\u001b[0m \u001b[0;34m/\u001b[0m\u001b[0;34m)\u001b[0m\u001b[0;34m\u001b[0m\u001b[0;34m\u001b[0m\u001b[0m\n",
      "\u001b[0;31mDocstring:\u001b[0m\n",
      "Return whether an object is an instance of a class or of a subclass thereof.\n",
      "\n",
      "A tuple, as in ``isinstance(x, (A, B, ...))``, may be given as the target to\n",
      "check against. This is equivalent to ``isinstance(x, A) or isinstance(x, B)\n",
      "or ...`` etc.\n",
      "\u001b[0;31mType:\u001b[0m      builtin_function_or_method\n"
     ]
    }
   ],
   "source": []
  },
  {
   "cell_type": "code",
   "execution_count": null,
   "metadata": {},
   "outputs": [],
   "source": []
  }
 ],
 "metadata": {
  "kernelspec": {
   "display_name": "Python 3",
   "language": "python",
   "name": "python3"
  },
  "language_info": {
   "codemirror_mode": {
    "name": "ipython",
    "version": 3
   },
   "file_extension": ".py",
   "mimetype": "text/x-python",
   "name": "python",
   "nbconvert_exporter": "python",
   "pygments_lexer": "ipython3",
   "version": "3.10.2"
  },
  "orig_nbformat": 4
 },
 "nbformat": 4,
 "nbformat_minor": 2
}
