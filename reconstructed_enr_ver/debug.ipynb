{
 "cells": [
  {
   "attachments": {},
   "cell_type": "markdown",
   "metadata": {},
   "source": [
    "# Debug test"
   ]
  },
  {
   "cell_type": "code",
   "execution_count": 17,
   "metadata": {},
   "outputs": [],
   "source": [
    "import qubit_system as qs\n",
    "import plot_lib as pl\n",
    "import numpy as np\n",
    "import matplotlib.pyplot as plt\n",
    "import pickle\n",
    "\n",
    "import sys\n",
    "np.set_printoptions(threshold=sys.maxsize)\n",
    "\n",
    "def r2matrix(r_dic):\n",
    "    n = len(r_dic)\n",
    "    r = [[0] * n for _ in range(n)]\n",
    "    \n",
    "    for i, key_i in enumerate(r_dic):\n",
    "        for j, key_j in enumerate(r_dic):\n",
    "            if j >= i:\n",
    "                r[i][j] = r_dic.get(f\"r{i+1}{j+1}\", 0)\n",
    "    return r\n",
    "\n",
    "def var_name2str(variable):\n",
    "    def nested_var_name2str(value):\n",
    "        if isinstance(value, list):\n",
    "            return [nested_var_name2str(item) for item in value]\n",
    "        else:\n",
    "            for name in globals():\n",
    "                if eval(name) == value:\n",
    "                    return name\n",
    "            return str(value)\n",
    "\n",
    "    return nested_var_name2str(variable)\n",
    "    "
   ]
  },
  {
   "attachments": {},
   "cell_type": "markdown",
   "metadata": {},
   "source": [
    "## Setup system"
   ]
  },
  {
   "cell_type": "markdown",
   "metadata": {},
   "source": [
    "$ H_0 + H_d $"
   ]
  },
  {
   "cell_type": "code",
   "execution_count": 18,
   "metadata": {},
   "outputs": [
    {
     "name": "stdout",
     "output_type": "stream",
     "text": [
      "Quantum object: dims = [[4, 4, 4], [4, 4, 4]], shape = (32, 32), type = oper, isherm = False\n",
      "Qobj data =\n",
      "[[ 0.00000000e+00  0.00000000e+00  0.00000000e+00  0.00000000e+00\n",
      "   0.00000000e+00  3.14159265e-01  0.00000000e+00  0.00000000e+00\n",
      "   0.00000000e+00  0.00000000e+00  0.00000000e+00  0.00000000e+00\n",
      "   0.00000000e+00  0.00000000e+00 -3.14159265e-02  0.00000000e+00\n",
      "   0.00000000e+00  3.14159265e-01  0.00000000e+00  0.00000000e+00\n",
      "   0.00000000e+00  0.00000000e+00  0.00000000e+00  0.00000000e+00\n",
      "   0.00000000e+00  0.00000000e+00  0.00000000e+00  0.00000000e+00\n",
      "   0.00000000e+00  0.00000000e+00  0.00000000e+00  0.00000000e+00]\n",
      " [ 0.00000000e+00  3.89557489e+01  0.00000000e+00  0.00000000e+00\n",
      "   3.14159265e-01  0.00000000e+00  4.44288294e-01  0.00000000e+00\n",
      "   0.00000000e+00  0.00000000e+00  0.00000000e+00  0.00000000e+00\n",
      "   0.00000000e+00 -3.14159265e-02  0.00000000e+00 -4.44288294e-02\n",
      "   0.00000000e+00  0.00000000e+00  3.14159265e-01  0.00000000e+00\n",
      "   0.00000000e+00  0.00000000e+00  0.00000000e+00  0.00000000e+00\n",
      "   0.00000000e+00  0.00000000e+00  0.00000000e+00  0.00000000e+00\n",
      "   0.00000000e+00  0.00000000e+00  0.00000000e+00  0.00000000e+00]\n",
      " [ 0.00000000e+00  0.00000000e+00  7.66548607e+01  0.00000000e+00\n",
      "   0.00000000e+00  4.44288294e-01  0.00000000e+00  5.44139809e-01\n",
      "   0.00000000e+00  0.00000000e+00  0.00000000e+00  0.00000000e+00\n",
      "   0.00000000e+00  0.00000000e+00 -4.44288294e-02  0.00000000e+00\n",
      "  -5.44139809e-02  0.00000000e+00  0.00000000e+00  3.14159265e-01\n",
      "   0.00000000e+00  0.00000000e+00  0.00000000e+00  0.00000000e+00\n",
      "   0.00000000e+00  0.00000000e+00  0.00000000e+00  0.00000000e+00\n",
      "   0.00000000e+00  0.00000000e+00  0.00000000e+00  0.00000000e+00]\n",
      " [ 0.00000000e+00  0.00000000e+00  0.00000000e+00  1.13097336e+02\n",
      "   0.00000000e+00  0.00000000e+00  5.44139809e-01  0.00000000e+00\n",
      "   0.00000000e+00  0.00000000e+00  0.00000000e+00  0.00000000e+00\n",
      "   0.00000000e+00  0.00000000e+00  0.00000000e+00 -5.44139809e-02\n",
      "   0.00000000e+00  0.00000000e+00  0.00000000e+00  0.00000000e+00\n",
      "   0.00000000e+00  0.00000000e+00  0.00000000e+00  0.00000000e+00\n",
      "   0.00000000e+00  0.00000000e+00  0.00000000e+00  0.00000000e+00\n",
      "   0.00000000e+00  0.00000000e+00  0.00000000e+00  0.00000000e+00]\n",
      " [ 0.00000000e+00  3.14159265e-01  0.00000000e+00  0.00000000e+00\n",
      "   3.67566340e+01  0.00000000e+00  0.00000000e+00  0.00000000e+00\n",
      "   0.00000000e+00  4.44288294e-01  0.00000000e+00  0.00000000e+00\n",
      "   0.00000000e+00  3.14159265e-01  0.00000000e+00  0.00000000e+00\n",
      "   0.00000000e+00  0.00000000e+00 -3.14159265e-02  0.00000000e+00\n",
      "   4.44288294e-01  0.00000000e+00  0.00000000e+00  0.00000000e+00\n",
      "   0.00000000e+00  0.00000000e+00  0.00000000e+00  0.00000000e+00\n",
      "   0.00000000e+00  0.00000000e+00  0.00000000e+00  0.00000000e+00]\n",
      " [ 3.14159265e-01  0.00000000e+00  4.44288294e-01  0.00000000e+00\n",
      "   0.00000000e+00  7.57123830e+01  0.00000000e+00  0.00000000e+00\n",
      "   4.44288294e-01  0.00000000e+00  6.28318531e-01  0.00000000e+00\n",
      "   0.00000000e+00  0.00000000e+00  3.14159265e-01  0.00000000e+00\n",
      "   0.00000000e+00 -3.14159265e-02  0.00000000e+00 -4.44288294e-02\n",
      "   0.00000000e+00  4.44288294e-01  0.00000000e+00  0.00000000e+00\n",
      "   0.00000000e+00  0.00000000e+00  0.00000000e+00  0.00000000e+00\n",
      "   0.00000000e+00  0.00000000e+00  0.00000000e+00  0.00000000e+00]\n",
      " [ 0.00000000e+00  4.44288294e-01  0.00000000e+00  5.44139809e-01\n",
      "   0.00000000e+00  0.00000000e+00  1.13411495e+02  0.00000000e+00\n",
      "   0.00000000e+00  6.28318531e-01  0.00000000e+00  0.00000000e+00\n",
      "   0.00000000e+00  0.00000000e+00  0.00000000e+00  3.14159265e-01\n",
      "   0.00000000e+00  0.00000000e+00 -4.44288294e-02  0.00000000e+00\n",
      "   0.00000000e+00  0.00000000e+00  0.00000000e+00  0.00000000e+00\n",
      "   0.00000000e+00  0.00000000e+00  0.00000000e+00  0.00000000e+00\n",
      "   0.00000000e+00  0.00000000e+00  0.00000000e+00  0.00000000e+00]\n",
      " [ 0.00000000e+00  0.00000000e+00  5.44139809e-01  0.00000000e+00\n",
      "   0.00000000e+00  0.00000000e+00  0.00000000e+00  1.49853970e+02\n",
      "   0.00000000e+00  0.00000000e+00  0.00000000e+00  0.00000000e+00\n",
      "   0.00000000e+00  0.00000000e+00  0.00000000e+00  0.00000000e+00\n",
      "   0.00000000e+00  0.00000000e+00  0.00000000e+00  0.00000000e+00\n",
      "   0.00000000e+00  0.00000000e+00  0.00000000e+00  0.00000000e+00\n",
      "   0.00000000e+00  0.00000000e+00  0.00000000e+00  0.00000000e+00\n",
      "   0.00000000e+00  0.00000000e+00  0.00000000e+00  0.00000000e+00]\n",
      " [ 0.00000000e+00  0.00000000e+00  0.00000000e+00  0.00000000e+00\n",
      "   0.00000000e+00  4.44288294e-01  0.00000000e+00  0.00000000e+00\n",
      "   7.16283125e+01  0.00000000e+00  0.00000000e+00  0.00000000e+00\n",
      "   5.44139809e-01  0.00000000e+00  0.00000000e+00  0.00000000e+00\n",
      "   0.00000000e+00  4.44288294e-01  0.00000000e+00  0.00000000e+00\n",
      "   0.00000000e+00 -3.14159265e-02  5.44139809e-01  0.00000000e+00\n",
      "   0.00000000e+00  0.00000000e+00  0.00000000e+00  0.00000000e+00\n",
      "   0.00000000e+00  0.00000000e+00  0.00000000e+00  0.00000000e+00]\n",
      " [ 0.00000000e+00  0.00000000e+00  0.00000000e+00  0.00000000e+00\n",
      "   4.44288294e-01  0.00000000e+00  6.28318531e-01  0.00000000e+00\n",
      "   0.00000000e+00  1.10584061e+02  0.00000000e+00  5.44139809e-01\n",
      "   0.00000000e+00  0.00000000e+00  0.00000000e+00  0.00000000e+00\n",
      "   0.00000000e+00  0.00000000e+00  4.44288294e-01  0.00000000e+00\n",
      "  -3.14159265e-02  0.00000000e+00  0.00000000e+00  0.00000000e+00\n",
      "   0.00000000e+00  0.00000000e+00  0.00000000e+00  0.00000000e+00\n",
      "   0.00000000e+00  0.00000000e+00  0.00000000e+00  0.00000000e+00]\n",
      " [ 0.00000000e+00  0.00000000e+00  0.00000000e+00  0.00000000e+00\n",
      "   0.00000000e+00  6.28318531e-01  0.00000000e+00  7.69529898e-01\n",
      "   0.00000000e+00  0.00000000e+00  1.48283173e+02  0.00000000e+00\n",
      "   0.00000000e+00  0.00000000e+00  0.00000000e+00  0.00000000e+00\n",
      "   0.00000000e+00  0.00000000e+00  0.00000000e+00  0.00000000e+00\n",
      "   0.00000000e+00  0.00000000e+00  0.00000000e+00  0.00000000e+00\n",
      "   0.00000000e+00  0.00000000e+00  0.00000000e+00  0.00000000e+00\n",
      "   0.00000000e+00  0.00000000e+00  0.00000000e+00  0.00000000e+00]\n",
      " [ 0.00000000e+00  0.00000000e+00  0.00000000e+00  0.00000000e+00\n",
      "   0.00000000e+00  0.00000000e+00  0.00000000e+00  0.00000000e+00\n",
      "   0.00000000e+00  5.44139809e-01  0.00000000e+00  1.04615035e+02\n",
      "   0.00000000e+00  0.00000000e+00  0.00000000e+00  0.00000000e+00\n",
      "   0.00000000e+00  0.00000000e+00  0.00000000e+00  0.00000000e+00\n",
      "   5.44139809e-01  0.00000000e+00  0.00000000e+00  0.00000000e+00\n",
      "   0.00000000e+00  0.00000000e+00  0.00000000e+00  0.00000000e+00\n",
      "   0.00000000e+00  0.00000000e+00  0.00000000e+00  0.00000000e+00]\n",
      " [ 0.00000000e+00  0.00000000e+00  0.00000000e+00  0.00000000e+00\n",
      "   0.00000000e+00  0.00000000e+00  0.00000000e+00  0.00000000e+00\n",
      "   5.44139809e-01  0.00000000e+00  7.69529898e-01  0.00000000e+00\n",
      "   1.43570784e+02  0.00000000e+00  0.00000000e+00  0.00000000e+00\n",
      "   0.00000000e+00  0.00000000e+00  0.00000000e+00  0.00000000e+00\n",
      "   0.00000000e+00  0.00000000e+00  0.00000000e+00  0.00000000e+00\n",
      "   0.00000000e+00  0.00000000e+00  0.00000000e+00  0.00000000e+00\n",
      "   0.00000000e+00  0.00000000e+00  0.00000000e+00  0.00000000e+00]\n",
      " [ 0.00000000e+00 -3.14159265e-02  0.00000000e+00  0.00000000e+00\n",
      "   3.14159265e-01  0.00000000e+00  0.00000000e+00  0.00000000e+00\n",
      "   0.00000000e+00  0.00000000e+00  0.00000000e+00  0.00000000e+00\n",
      "   0.00000000e+00  3.95840674e+01  0.00000000e+00  0.00000000e+00\n",
      "   0.00000000e+00  0.00000000e+00  3.14159265e-01  0.00000000e+00\n",
      "   0.00000000e+00  0.00000000e+00  0.00000000e+00  0.00000000e+00\n",
      "  -4.44288294e-02  0.00000000e+00  4.44288294e-01  0.00000000e+00\n",
      "   0.00000000e+00  0.00000000e+00  0.00000000e+00  0.00000000e+00]\n",
      " [-3.14159265e-02  0.00000000e+00 -4.44288294e-02  0.00000000e+00\n",
      "   0.00000000e+00  3.14159265e-01  0.00000000e+00  0.00000000e+00\n",
      "   0.00000000e+00  0.00000000e+00  0.00000000e+00  0.00000000e+00\n",
      "   0.00000000e+00  0.00000000e+00  7.85398163e+01  0.00000000e+00\n",
      "   0.00000000e+00  3.14159265e-01  0.00000000e+00  4.44288294e-01\n",
      "   0.00000000e+00  0.00000000e+00  0.00000000e+00 -4.44288294e-02\n",
      "   0.00000000e+00 -6.28318531e-02  0.00000000e+00  4.44288294e-01\n",
      "   0.00000000e+00  0.00000000e+00  0.00000000e+00  0.00000000e+00]\n",
      " [ 0.00000000e+00 -4.44288294e-02  0.00000000e+00 -5.44139809e-02\n",
      "   0.00000000e+00  0.00000000e+00  3.14159265e-01  0.00000000e+00\n",
      "   0.00000000e+00  0.00000000e+00  0.00000000e+00  0.00000000e+00\n",
      "   0.00000000e+00  0.00000000e+00  0.00000000e+00  1.16238928e+02\n",
      "   0.00000000e+00  0.00000000e+00  4.44288294e-01  0.00000000e+00\n",
      "   0.00000000e+00  0.00000000e+00  0.00000000e+00  0.00000000e+00\n",
      "  -6.28318531e-02  0.00000000e+00  0.00000000e+00  0.00000000e+00\n",
      "   0.00000000e+00  0.00000000e+00  0.00000000e+00  0.00000000e+00]\n",
      " [ 0.00000000e+00  0.00000000e+00 -5.44139809e-02  0.00000000e+00\n",
      "   0.00000000e+00  0.00000000e+00  0.00000000e+00  3.14159265e-01\n",
      "   0.00000000e+00  0.00000000e+00  0.00000000e+00  0.00000000e+00\n",
      "   0.00000000e+00  0.00000000e+00  0.00000000e+00  0.00000000e+00\n",
      "   1.52681403e+02  0.00000000e+00  0.00000000e+00  0.00000000e+00\n",
      "   0.00000000e+00  0.00000000e+00  0.00000000e+00  0.00000000e+00\n",
      "   0.00000000e+00  0.00000000e+00  0.00000000e+00  0.00000000e+00\n",
      "   0.00000000e+00  0.00000000e+00  0.00000000e+00  0.00000000e+00]\n",
      " [ 3.14159265e-01  0.00000000e+00  0.00000000e+00  0.00000000e+00\n",
      "   0.00000000e+00 -3.14159265e-02  0.00000000e+00  0.00000000e+00\n",
      "   4.44288294e-01  0.00000000e+00  0.00000000e+00  0.00000000e+00\n",
      "   0.00000000e+00  0.00000000e+00  3.14159265e-01  0.00000000e+00\n",
      "   0.00000000e+00  7.63407015e+01  0.00000000e+00  0.00000000e+00\n",
      "   0.00000000e+00  4.44288294e-01  0.00000000e+00  4.44288294e-01\n",
      "   0.00000000e+00  0.00000000e+00  0.00000000e+00 -4.44288294e-02\n",
      "   6.28318531e-01  0.00000000e+00  0.00000000e+00  0.00000000e+00]\n",
      " [ 0.00000000e+00  3.14159265e-01  0.00000000e+00  0.00000000e+00\n",
      "  -3.14159265e-02  0.00000000e+00 -4.44288294e-02  0.00000000e+00\n",
      "   0.00000000e+00  4.44288294e-01  0.00000000e+00  0.00000000e+00\n",
      "   0.00000000e+00  3.14159265e-01  0.00000000e+00  4.44288294e-01\n",
      "   0.00000000e+00  0.00000000e+00  1.15296450e+02  0.00000000e+00\n",
      "   4.44288294e-01  0.00000000e+00  0.00000000e+00  0.00000000e+00\n",
      "   4.44288294e-01  0.00000000e+00 -4.44288294e-02  0.00000000e+00\n",
      "   0.00000000e+00  0.00000000e+00  0.00000000e+00  0.00000000e+00]\n",
      " [ 0.00000000e+00  0.00000000e+00  3.14159265e-01  0.00000000e+00\n",
      "   0.00000000e+00 -4.44288294e-02  0.00000000e+00 -5.44139809e-02\n",
      "   0.00000000e+00  0.00000000e+00  4.44288294e-01  0.00000000e+00\n",
      "   0.00000000e+00  0.00000000e+00  4.44288294e-01  0.00000000e+00\n",
      "   5.44139809e-01  0.00000000e+00  0.00000000e+00  1.52995562e+02\n",
      "   0.00000000e+00  0.00000000e+00  0.00000000e+00  0.00000000e+00\n",
      "   0.00000000e+00  0.00000000e+00  0.00000000e+00  0.00000000e+00\n",
      "   0.00000000e+00  0.00000000e+00  0.00000000e+00  0.00000000e+00]\n",
      " [ 0.00000000e+00  0.00000000e+00  0.00000000e+00  0.00000000e+00\n",
      "   4.44288294e-01  0.00000000e+00  0.00000000e+00  0.00000000e+00\n",
      "   0.00000000e+00 -3.14159265e-02  0.00000000e+00  5.44139809e-01\n",
      "   0.00000000e+00  0.00000000e+00  0.00000000e+00  0.00000000e+00\n",
      "   0.00000000e+00  0.00000000e+00  4.44288294e-01  0.00000000e+00\n",
      "   1.11212380e+02  0.00000000e+00  0.00000000e+00  0.00000000e+00\n",
      "   0.00000000e+00  0.00000000e+00  6.28318531e-01  0.00000000e+00\n",
      "   0.00000000e+00  0.00000000e+00  0.00000000e+00  0.00000000e+00]\n",
      " [ 0.00000000e+00  0.00000000e+00  0.00000000e+00  0.00000000e+00\n",
      "   0.00000000e+00  4.44288294e-01  0.00000000e+00  0.00000000e+00\n",
      "  -3.14159265e-02  0.00000000e+00 -4.44288294e-02  0.00000000e+00\n",
      "   5.44139809e-01  0.00000000e+00  0.00000000e+00  0.00000000e+00\n",
      "   0.00000000e+00  4.44288294e-01  0.00000000e+00  6.28318531e-01\n",
      "   0.00000000e+00  1.50168129e+02  0.00000000e+00  0.00000000e+00\n",
      "   0.00000000e+00  0.00000000e+00  0.00000000e+00  0.00000000e+00\n",
      "   0.00000000e+00  0.00000000e+00  0.00000000e+00  0.00000000e+00]\n",
      " [ 0.00000000e+00  0.00000000e+00  0.00000000e+00  0.00000000e+00\n",
      "   0.00000000e+00  0.00000000e+00  0.00000000e+00  0.00000000e+00\n",
      "   5.44139809e-01  0.00000000e+00  0.00000000e+00  0.00000000e+00\n",
      "  -3.14159265e-02  0.00000000e+00  0.00000000e+00  0.00000000e+00\n",
      "   0.00000000e+00  0.00000000e+00  0.00000000e+00  0.00000000e+00\n",
      "   0.00000000e+00  5.44139809e-01  1.44199103e+02  0.00000000e+00\n",
      "   0.00000000e+00  0.00000000e+00  0.00000000e+00  0.00000000e+00\n",
      "   0.00000000e+00  0.00000000e+00  0.00000000e+00  0.00000000e+00]\n",
      " [ 0.00000000e+00  0.00000000e+00  0.00000000e+00  0.00000000e+00\n",
      "   0.00000000e+00  0.00000000e+00  0.00000000e+00  0.00000000e+00\n",
      "   0.00000000e+00  0.00000000e+00  0.00000000e+00  0.00000000e+00\n",
      "   0.00000000e+00  0.00000000e+00 -4.44288294e-02  0.00000000e+00\n",
      "   0.00000000e+00  4.44288294e-01  0.00000000e+00  0.00000000e+00\n",
      "   0.00000000e+00  0.00000000e+00  0.00000000e+00  7.72831793e+01\n",
      "   0.00000000e+00  0.00000000e+00  0.00000000e+00  3.14159265e-01\n",
      "   0.00000000e+00  0.00000000e+00 -5.44139809e-02  5.44139809e-01]\n",
      " [ 0.00000000e+00  0.00000000e+00  0.00000000e+00  0.00000000e+00\n",
      "   0.00000000e+00  0.00000000e+00  0.00000000e+00  0.00000000e+00\n",
      "   0.00000000e+00  0.00000000e+00  0.00000000e+00  0.00000000e+00\n",
      "   0.00000000e+00 -4.44288294e-02  0.00000000e+00 -6.28318531e-02\n",
      "   0.00000000e+00  0.00000000e+00  4.44288294e-01  0.00000000e+00\n",
      "   0.00000000e+00  0.00000000e+00  0.00000000e+00  0.00000000e+00\n",
      "   1.16238928e+02  0.00000000e+00  3.14159265e-01  0.00000000e+00\n",
      "   0.00000000e+00 -5.44139809e-02  0.00000000e+00  0.00000000e+00]\n",
      " [ 0.00000000e+00  0.00000000e+00  0.00000000e+00  0.00000000e+00\n",
      "   0.00000000e+00  0.00000000e+00  0.00000000e+00  0.00000000e+00\n",
      "   0.00000000e+00  0.00000000e+00  0.00000000e+00  0.00000000e+00\n",
      "   0.00000000e+00  0.00000000e+00 -6.28318531e-02  0.00000000e+00\n",
      "  -7.69529898e-02  0.00000000e+00  0.00000000e+00  4.44288294e-01\n",
      "   0.00000000e+00  0.00000000e+00  0.00000000e+00  0.00000000e+00\n",
      "   0.00000000e+00  1.53938040e+02  0.00000000e+00  0.00000000e+00\n",
      "   0.00000000e+00  0.00000000e+00  0.00000000e+00  0.00000000e+00]\n",
      " [ 0.00000000e+00  0.00000000e+00  0.00000000e+00  0.00000000e+00\n",
      "   0.00000000e+00  0.00000000e+00  0.00000000e+00  0.00000000e+00\n",
      "   0.00000000e+00  0.00000000e+00  0.00000000e+00  0.00000000e+00\n",
      "   0.00000000e+00  4.44288294e-01  0.00000000e+00  0.00000000e+00\n",
      "   0.00000000e+00  0.00000000e+00 -4.44288294e-02  0.00000000e+00\n",
      "   6.28318531e-01  0.00000000e+00  0.00000000e+00  0.00000000e+00\n",
      "   3.14159265e-01  0.00000000e+00  1.14039813e+02  0.00000000e+00\n",
      "   0.00000000e+00  5.44139809e-01  0.00000000e+00  0.00000000e+00]\n",
      " [ 0.00000000e+00  0.00000000e+00  0.00000000e+00  0.00000000e+00\n",
      "   0.00000000e+00  0.00000000e+00  0.00000000e+00  0.00000000e+00\n",
      "   0.00000000e+00  0.00000000e+00  0.00000000e+00  0.00000000e+00\n",
      "   0.00000000e+00  0.00000000e+00  4.44288294e-01  0.00000000e+00\n",
      "   0.00000000e+00 -4.44288294e-02  0.00000000e+00 -6.28318531e-02\n",
      "   0.00000000e+00  6.28318531e-01  0.00000000e+00  3.14159265e-01\n",
      "   0.00000000e+00  4.44288294e-01  0.00000000e+00  1.52995562e+02\n",
      "   0.00000000e+00  0.00000000e+00  0.00000000e+00  0.00000000e+00]\n",
      " [ 0.00000000e+00  0.00000000e+00  0.00000000e+00  0.00000000e+00\n",
      "   0.00000000e+00  0.00000000e+00  0.00000000e+00  0.00000000e+00\n",
      "   0.00000000e+00  0.00000000e+00  0.00000000e+00  0.00000000e+00\n",
      "   0.00000000e+00  0.00000000e+00  0.00000000e+00  0.00000000e+00\n",
      "   0.00000000e+00  6.28318531e-01  0.00000000e+00  0.00000000e+00\n",
      "   0.00000000e+00 -4.44288294e-02  7.69529898e-01  0.00000000e+00\n",
      "   0.00000000e+00  0.00000000e+00  0.00000000e+00  4.44288294e-01\n",
      "   1.48911492e+02  0.00000000e+00  0.00000000e+00  0.00000000e+00]\n",
      " [ 0.00000000e+00  0.00000000e+00  0.00000000e+00  0.00000000e+00\n",
      "   0.00000000e+00  0.00000000e+00  0.00000000e+00  0.00000000e+00\n",
      "   0.00000000e+00  0.00000000e+00  0.00000000e+00  0.00000000e+00\n",
      "   0.00000000e+00  0.00000000e+00  0.00000000e+00  0.00000000e+00\n",
      "   0.00000000e+00  0.00000000e+00  0.00000000e+00  0.00000000e+00\n",
      "   0.00000000e+00  0.00000000e+00  0.00000000e+00  0.00000000e+00\n",
      "  -5.44139809e-02  0.00000000e+00  5.44139809e-01  0.00000000e+00\n",
      "   0.00000000e+00  1.13097336e+02  0.00000000e+00  0.00000000e+00]\n",
      " [ 0.00000000e+00  0.00000000e+00  0.00000000e+00  0.00000000e+00\n",
      "   0.00000000e+00  0.00000000e+00  0.00000000e+00  0.00000000e+00\n",
      "   0.00000000e+00  0.00000000e+00  0.00000000e+00  0.00000000e+00\n",
      "   0.00000000e+00  0.00000000e+00  0.00000000e+00  0.00000000e+00\n",
      "   0.00000000e+00  0.00000000e+00  0.00000000e+00  0.00000000e+00\n",
      "   0.00000000e+00  0.00000000e+00  0.00000000e+00 -5.44139809e-02\n",
      "   0.00000000e+00 -7.69529898e-02  0.00000000e+00  5.44139809e-01\n",
      "   0.00000000e+00  0.00000000e+00  1.52053084e+02  0.00000000e+00]\n",
      " [ 0.00000000e+00  0.00000000e+00  0.00000000e+00  0.00000000e+00\n",
      "   0.00000000e+00  0.00000000e+00  0.00000000e+00  0.00000000e+00\n",
      "   0.00000000e+00  0.00000000e+00  0.00000000e+00  0.00000000e+00\n",
      "   0.00000000e+00  0.00000000e+00  0.00000000e+00  0.00000000e+00\n",
      "   0.00000000e+00  0.00000000e+00  0.00000000e+00  0.00000000e+00\n",
      "   0.00000000e+00  0.00000000e+00  0.00000000e+00  5.44139809e-01\n",
      "   0.00000000e+00  0.00000000e+00  0.00000000e+00 -5.44139809e-02\n",
      "   7.69529898e-01  0.00000000e+00  3.14159265e-01  1.49853970e+02]]\n"
     ]
    }
   ],
   "source": [
    "N =4 # Maximum excitation level\n",
    "w = [6.3, 5.85, 6.2] # Qubit frequency\n",
    "q_dim = [4 for _ in range(len(w))]\n",
    "alpha =[-0.3, -0.3, -0.2] # Anharmonicity\n",
    "# r_dic = {\n",
    "#     \"r12\": 0,#0.05,\n",
    "#     \"r13\": 0,#-0.005,\n",
    "#     \"r23\": 0#0.05\n",
    "# }\n",
    "\n",
    "r_dic = {\n",
    "    \"r12\": 0.05,\n",
    "    \"r13\": -0.005,\n",
    "    \"r23\": 0.05\n",
    "}\n",
    "\n",
    "r = r2matrix(r_dic) # Coupling strength\n",
    "\n",
    "gamma_list = [\n",
    "    {\n",
    "        \"up\": 0.005,\n",
    "        \"down\": 0.1,\n",
    "        \"z\": 0.001\n",
    "    },\n",
    "    {\n",
    "        \"up\": 0,\n",
    "        \"down\": 0,\n",
    "        \"z\": 0\n",
    "    },\n",
    "    {\n",
    "        \"up\": 0.005,\n",
    "        \"down\": 0.1,\n",
    "        \"z\": 0.001\n",
    "    }\n",
    "]  # Gamma up, Gamma down, Gamma z\n",
    "\n",
    "# Set up system class\n",
    "_system = qs.qubit_system(N, q_dim, w, alpha, r, gamma_list)\n",
    "\n",
    "# Get system Hamiltonian\n",
    "print(_system.H)"
   ]
  },
  {
   "attachments": {},
   "cell_type": "markdown",
   "metadata": {},
   "source": [
    "## ZZ coupling strength"
   ]
  },
  {
   "cell_type": "code",
   "execution_count": 19,
   "metadata": {},
   "outputs": [],
   "source": [
    "N = 4 # Maximum excitation level\n",
    "w = [7, 5, 6.6] # Qubit frequency\n",
    "q_dim = [4 for _ in range(len(w))]\n",
    "alpha =[-0.24, -0.14, -0.24] # Anharmonicity\n",
    "r_dic = {\n",
    "    \"r12\": 0.11,\n",
    "    \"r13\": -0.006,\n",
    "    \"r23\": 0.11\n",
    "}\n",
    "r = r2matrix(r_dic) # Coupling strength\n",
    "gamma_list = None # Gamma up, Gamma down, Gamma z\n",
    "\n",
    "# Define scanning space\n",
    "w2_scan_space = np.linspace(5, 8, 41)\n",
    "w3_scan_space = np.linspace(6.6, 7.4, 11)\n",
    "\n",
    "# Scanning\n",
    "zz_list = []\n",
    "\n",
    "for w3 in w3_scan_space:\n",
    "    dummy_list = []\n",
    "    w = [7, 5, w3]\n",
    "    zz_system1 = qs.qubit_system(N, q_dim, w, alpha, r, gamma_list)\n",
    "    # State represented in tuple, e.g., |100> ==> (1,0,0)\n",
    "    index_101 = zz_system1.get_state_index((1,0,1))\n",
    "    index_100 = zz_system1.get_state_index((1,0,0))\n",
    "    index_001 = zz_system1.get_state_index((0,0,1))\n",
    "    index_000 = zz_system1.get_state_index((0,0,0))\n",
    "    for w2 in w2_scan_space:\n",
    "        w = [7, w2, w3]\n",
    "        zz_system = qs.qubit_system(N, q_dim, w, alpha, r, gamma_list)\n",
    "        E_101 = zz_system.H.eigenenergies()[index_101]/np.pi/2\n",
    "        E_100 = zz_system.H.eigenenergies()[index_100]/np.pi/2\n",
    "        E_001 = zz_system.H.eigenenergies()[index_001]/np.pi/2\n",
    "        E_000 = zz_system.H.eigenenergies()[index_000]/np.pi/2\n",
    "        \n",
    "        dummy_list.append((- E_101 + E_100 + E_001 - E_000).real)\n",
    "    zz_list.append(dummy_list)"
   ]
  },
  {
   "attachments": {},
   "cell_type": "markdown",
   "metadata": {},
   "source": [
    "### Plot zz interaction"
   ]
  },
  {
   "cell_type": "code",
   "execution_count": 20,
   "metadata": {},
   "outputs": [
    {
     "data": {
      "image/png": "[encoded data removed]",
      "text/plain": [
       "<Figure size 432x288 with 2 Axes>"
      ]
     },
     "metadata": {
      "needs_background": "light"
     },
     "output_type": "display_data"
    }
   ],
   "source": [
    "x_list, y_list = np.meshgrid(w2_list,w3_list)\n",
    "\n",
    "nrm1 = matplotlib.colors.LogNorm(1e-6, 1e-1)  \n",
    "\n",
    "zz_list=np.abs(zz_list)\n",
    "\n",
    "fig1, ax1 = plt.subplots()\n",
    "p1 = ax1.pcolor(x_list, y_list, zz_list, cmap=matplotlib.cm.viridis_r,norm=nrm1)\n",
    "cb1 = fig1.colorbar(p1, ax=ax1,label='ZZ/GHz', extend='both')\n",
    "ax1.set_xlabel('$\\omega_c$/GHz')\n",
    "ax1.set_ylabel('$\\omega_{q2}$/GHz')\n",
    "\n",
    "plt.show()"
   ]
  },
  {
   "attachments": {},
   "cell_type": "markdown",
   "metadata": {},
   "source": [
    "## Energy level"
   ]
  },
  {
   "cell_type": "code",
   "execution_count": 21,
   "metadata": {},
   "outputs": [],
   "source": [
    "N = 4 # Maximum excitation level\n",
    "w = [7, 0, 6.6] # Qubit frequency\n",
    "q_dim = [4 for _ in range(len(w))]\n",
    "alpha =[-0.24, -0.14, -0.24] # Anharmonicity\n",
    "r_dic = {\n",
    "    \"r12\": 0.11,\n",
    "    \"r13\": 0.006,\n",
    "    \"r23\": 0.11\n",
    "}\n",
    "r = r2matrix(r_dic) # Coupling strength\n",
    "gamma_list = None # Gamma up, Gamma down, Gamma z\n",
    "\n",
    "num_level = 20 # Num of level we want to see\n",
    "w2_step = 101\n",
    "w2_list= np.linspace(5.5,8,w2_step)\n",
    "energy_level_list = []\n",
    "\n",
    "for w2, i in zip(w2_list, range(len(w2_list))):\n",
    "    dummy_list = []\n",
    "    w[1] = w2\n",
    "    _system = qs.qubit_system(N, q_dim, w, alpha, r, gamma_list)\n",
    "    for j in range(0,num_level):\n",
    "        dummy_list.append((_system.H.eigenenergies()[j] / np.pi/2).real)\n",
    "    energy_level_list.append(dummy_list)"
   ]
  },
  {
   "cell_type": "markdown",
   "metadata": {},
   "source": [
    "### Plot energy level "
   ]
  },
  {
   "cell_type": "code",
   "execution_count": 22,
   "metadata": {},
   "outputs": [
    {
     "data": {
      "text/plain": [
       "Text(0, 0.5, 'Energy level')"
      ]
     },
     "execution_count": 22,
     "metadata": {},
     "output_type": "execute_result"
    },
    {
     "data": {
      "image/png": "[encoded data removed]",
      "text/plain": [
       "<Figure size 432x288 with 1 Axes>"
      ]
     },
     "metadata": {
      "needs_background": "light"
     },
     "output_type": "display_data"
    }
   ],
   "source": [
    "for j in range(0,9):\n",
    "    plt.plot(w2_list,[v[j] for v in energy_level_list])\n",
    "    \n",
    "plt.xlabel('$\\omega_c$/GHz')\n",
    "plt.ylabel('Energy level')"
   ]
  },
  {
   "attachments": {},
   "cell_type": "markdown",
   "metadata": {},
   "source": [
    "## System Dynamics"
   ]
  },
  {
   "cell_type": "code",
   "execution_count": 23,
   "metadata": {},
   "outputs": [
    {
     "name": "stdout",
     "output_type": "stream",
     "text": [
      "E_010 - E_000 = 5.837099975436753\n"
     ]
    }
   ],
   "source": [
    "N = 4 # Maximum excitation level\n",
    "w = [6.3, 5.85, 6.2] # Qubit frequency\n",
    "q_dim = [4 for _ in range(len(w))]\n",
    "alpha =[-0.3, -0.3, -0.2] # Anharmonicity\n",
    "r_dic = {\n",
    "    \"r12\": 0.05,\n",
    "    \"r13\": -0.005,\n",
    "    \"r23\": 0.05\n",
    "}\n",
    "r = r2matrix(r_dic) # Coupling strength\n",
    "gamma_list = None\n",
    "_system = qs.qubit_system(N, q_dim, w, alpha, r, gamma_list)\n",
    "# Get level spacing between |010> and |000>\n",
    "# State represented in tuple, e.g., |100> ==> (1,0,0)\n",
    "state_010, E_010, _ = _system.get_eigenstates_energy((0,1,0))\n",
    "state_000, E_000, _ = _system.get_eigenstates_energy((0,0,0))\n",
    "Delta_E = E_010 - E_000\n",
    "print(\"E_010 - E_000 = {}\".format(Delta_E))\n",
    "# Define more states\n",
    "state_100, _, _ = _system.get_eigenstates_energy((1,0,0))\n",
    "state_001, _, _ = _system.get_eigenstates_energy((0,0,1))\n",
    "state_110, _, _ = _system.get_eigenstates_energy((1,1,0))\n",
    "state_011, _, _ = _system.get_eigenstates_energy((0,1,1))\n",
    "state_101, _, _ = _system.get_eigenstates_energy((1,0,1))\n",
    "\n",
    "simulation_option = {\n",
    "    \"simulation_time\": 200, # ns\n",
    "    \"simulation_step\": 2000,\n",
    "    \"initial_state\": [state_000] # Do multiple simulation\n",
    "}\n",
    "\n",
    "pulse_sequence = [\n",
    "    {\n",
    "        'pulse_index': 1,\n",
    "        'type': \"XY\",\n",
    "        'pulse_shape': \"cos\",\n",
    "        't_delay': 0,\n",
    "        't_width': 200,\n",
    "        't_plateau': 0,\n",
    "        'freq': Delta_E,\n",
    "        'amplitude': 0.01,\n",
    "        'q_index': 1 # 0, 1, 2\n",
    "    }\n",
    "]\n",
    "\n",
    "\n",
    "pulse_sequence_example = [\n",
    "    {\n",
    "        'pulse_index': 1,\n",
    "        'type': \"XY\",\n",
    "        'pulse_shape': \"cos\",\n",
    "        't_delay': 300,\n",
    "        't_width': 200,\n",
    "        't_plateau': 0,\n",
    "        'freq': Delta_E,\n",
    "        'amplitude': 0.8,\n",
    "        'q_index': 1\n",
    "    },\n",
    "    {\n",
    "        'pulse_index': 2,\n",
    "        'type': \"XY\",\n",
    "        'pulse_shape': \"cos\",\n",
    "        't_delay': 200,\n",
    "        't_width': 300,\n",
    "        't_plateau': 0,\n",
    "        'freq': Delta_E,\n",
    "        'amplitude': 0.73,\n",
    "        'q_index': 0\n",
    "    },\n",
    "    {\n",
    "        'pulse_index': 3,\n",
    "        'type': \"Z\",\n",
    "        'pulse_shape': \"sin\",\n",
    "        't_delay': 100,\n",
    "        't_width': 50,\n",
    "        't_plateau': 100,\n",
    "        'freq': Delta_E,\n",
    "        'amplitude': 0.9,\n",
    "        'q_index': 1\n",
    "    },\n",
    "    {\n",
    "        'pulse_index': 4,\n",
    "        'type': \"Z\",\n",
    "        'pulse_shape': \"sin\",\n",
    "        't_delay': 0,\n",
    "        't_width': 50,\n",
    "        't_plateau': 0,\n",
    "        'freq': Delta_E,\n",
    "        'amplitude': 0.9,\n",
    "        'q_index': 0\n",
    "    },\n",
    "    {\n",
    "        'pulse_index': 5,\n",
    "        'type': \"XY\",\n",
    "        'pulse_shape': \"cos\",\n",
    "        't_delay': 125,\n",
    "        't_width': 100,\n",
    "        't_plateau': 0,\n",
    "        'freq': Delta_E,\n",
    "        'amplitude': 0.9,\n",
    "        'q_index': 1\n",
    "    }\n",
    "]"
   ]
  },
  {
   "cell_type": "markdown",
   "metadata": {},
   "source": [
    "### Plot pulse sequence"
   ]
  },
  {
   "cell_type": "code",
   "execution_count": 24,
   "metadata": {},
   "outputs": [
    {
     "data": {
      "image/png": "[encoded data removed]",
      "text/plain": [
       "<Figure size 432x288 with 2 Axes>"
      ]
     },
     "metadata": {
      "needs_background": "light"
     },
     "output_type": "display_data"
    },
    {
     "data": {
      "text/plain": [
       "0"
      ]
     },
     "execution_count": 24,
     "metadata": {},
     "output_type": "execute_result"
    }
   ],
   "source": [
    "pl.plot_pulse_sequence(pulse_sequence, simulation_option)"
   ]
  },
  {
   "attachments": {},
   "cell_type": "markdown",
   "metadata": {},
   "source": [
    "### Do system dynamics"
   ]
  },
  {
   "cell_type": "code",
   "execution_count": 25,
   "metadata": {},
   "outputs": [],
   "source": [
    "result_list, angle_list = _system.system_dynamics(simulation_option, pulse_sequence)"
   ]
  },
  {
   "attachments": {},
   "cell_type": "markdown",
   "metadata": {},
   "source": [
    "### Plot level dynamics"
   ]
  },
  {
   "cell_type": "code",
   "execution_count": 26,
   "metadata": {},
   "outputs": [
    {
     "data": {
      "image/png": "[encoded data removed]",
      "text/plain": [
       "<Figure size 720x576 with 1 Axes>"
      ]
     },
     "metadata": {
      "needs_background": "light"
     },
     "output_type": "display_data"
    },
    {
     "data": {
      "text/plain": [
       "0"
      ]
     },
     "execution_count": 26,
     "metadata": {},
     "output_type": "execute_result"
    }
   ],
   "source": [
    "# state that you want to plot each simulation\n",
    "interested_state = [\n",
    "                    [state_000, state_010]\n",
    "                    ]\n",
    "interested_state_label = var_name2str(interested_state)\n",
    "initial_state_label = var_name2str(simulation_option[\"initial_state\"])\n",
    "\n",
    "# plot state population evolution\n",
    "pl.plot_population_evolution(_system, result_list, simulation_option, interested_state, interested_state_label, initial_state_label)"
   ]
  },
  {
   "attachments": {},
   "cell_type": "markdown",
   "metadata": {},
   "source": [
    "### Revise\n",
    "\n",
    "> 1. sys_dynamics: more input state (initial states) **Done**\n",
    "> 2. Get state phase. `np.angle()` **Done**\n",
    "> 3. pulse sequence display  **Done**\n",
    "> 4. Revise the scanning methods, just like what they did in Nlab\n",
    "> 5. Regularization of the plot\n",
    ">\n",
    "> 6. Add propagator => calculation $ F $"
   ]
  },
  {
   "attachments": {},
   "cell_type": "markdown",
   "metadata": {},
   "source": []
  }
 ],
 "metadata": {
  "kernelspec": {
   "display_name": "Python 3 (ipykernel)",
   "language": "python",
   "name": "python3"
  },
  "language_info": {
   "codemirror_mode": {
    "name": "ipython",
    "version": 3
   },
   "file_extension": ".py",
   "mimetype": "text/x-python",
   "name": "python",
   "nbconvert_exporter": "python",
   "pygments_lexer": "ipython3",
   "version": "3.9.0"
  }
 },
 "nbformat": 4,
 "nbformat_minor": 4
}
